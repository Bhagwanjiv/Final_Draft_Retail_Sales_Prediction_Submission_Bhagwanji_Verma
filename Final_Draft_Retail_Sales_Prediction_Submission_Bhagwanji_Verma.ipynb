{
  "nbformat": 4,
  "nbformat_minor": 0,
  "metadata": {
    "colab": {
      "private_outputs": true,
      "provenance": [],
      "collapsed_sections": [
        "vncDsAP0Gaoa",
        "FJNUwmbgGyua",
        "w6K7xa23Elo4",
        "yQaldy8SH6Dl",
        "mDgbUHAGgjLW",
        "O_i_v8NEhb9l",
        "HhfV-JJviCcP",
        "Y3lxredqlCYt",
        "3RnN4peoiCZX",
        "x71ZqKXriCWQ",
        "7hBIi_osiCS2",
        "JlHwYmJAmNHm",
        "35m5QtbWiB9F",
        "PoPl-ycgm1ru",
        "H0kj-8xxnORC",
        "nA9Y7ga8ng1Z",
        "PBTbrJXOngz2",
        "u3PMJOP6ngxN",
        "dauF4eBmngu3",
        "bKJF3rekwFvQ",
        "MSa1f5Uengrz",
        "GF8Ens_Soomf",
        "0wOQAZs5pc--",
        "K5QZ13OEpz2H",
        "lQ7QKXXCp7Bj",
        "448CDAPjqfQr",
        "KSlN3yHqYklG",
        "t6dVpIINYklI",
        "ijmpgYnKYklI",
        "-JiQyfWJYklI",
        "EM7whBJCYoAo",
        "fge-S5ZAYoAp",
        "85gYPyotYoAp",
        "RoGjAbkUYoAp",
        "4Of9eVA-YrdM",
        "iky9q4vBYrdO",
        "F6T5p64dYrdO",
        "y-Ehk30pYrdP",
        "bamQiAODYuh1",
        "QHF8YVU7Yuh3",
        "GwzvFGzlYuh3",
        "qYpmQ266Yuh3",
        "OH-pJp9IphqM",
        "bbFf2-_FphqN",
        "_ouA3fa0phqN",
        "Seke61FWphqN",
        "PIIx-8_IphqN",
        "t27r6nlMphqO",
        "r2jJGEOYphqO",
        "b0JNsNcRphqO",
        "BZR9WyysphqO",
        "jj7wYXLtphqO",
        "eZrbJ2SmphqO",
        "rFu4xreNphqO",
        "YJ55k-q6phqO",
        "gCFgpxoyphqP",
        "OVtJsKN_phqQ",
        "lssrdh5qphqQ",
        "U2RJ9gkRphqQ",
        "1M8mcRywphqQ",
        "tgIPom80phqQ",
        "JMzcOPDDphqR",
        "x-EpHcCOp1ci",
        "X_VqEhTip1ck",
        "8zGJKyg5p1ck",
        "PVzmfK_Ep1ck",
        "n3dbpmDWp1ck",
        "ylSl6qgtp1ck",
        "ZWILFDl5p1ck",
        "M7G43BXep1ck",
        "Ag9LCva-p1cl",
        "E6MkPsBcp1cl",
        "2cELzS2fp1cl",
        "3MPXvC8up1cl",
        "NC_X3p0fY2L0",
        "UV0SzAkaZNRQ",
        "YPEH6qLeZNRQ",
        "q29F0dvdveiT",
        "EXh0U9oCveiU",
        "22aHeOlLveiV",
        "g-ATYxFrGrvw",
        "Yfr_Vlr8HBkt",
        "8yEUt7NnHlrM",
        "tEA2Xm5dHt1r",
        "I79__PHVH19G",
        "Ou-I18pAyIpj",
        "fF3858GYyt-u",
        "4_0_7-oCpUZd",
        "hwyV_J3ipUZe",
        "3yB-zSqbpUZe",
        "dEUvejAfpUZe",
        "Fd15vwWVpUZf",
        "bn_IUdTipZyH",
        "49K5P_iCpZyH",
        "Nff-vKELpZyI",
        "kLW572S8pZyI",
        "dWbDXHzopZyI",
        "yLjJCtPM0KBk",
        "xiyOF9F70UgQ",
        "7wuGOrhz0itI",
        "id1riN9m0vUs",
        "578E2V7j08f6",
        "89xtkJwZ18nB",
        "67NQN5KX2AMe",
        "Iwf50b-R2tYG",
        "GMQiZwjn3iu7",
        "WVIkgGqN3qsr",
        "XkPnILGE3zoT",
        "Hlsf0x5436Go",
        "mT9DMSJo4nBL",
        "c49ITxTc407N",
        "OeJFEK0N496M",
        "9ExmJH0g5HBk",
        "cJNqERVU536h",
        "k5UmGsbsOxih",
        "T0VqWOYE6DLQ",
        "qBMux9mC6MCf",
        "-oLEiFgy-5Pf",
        "C74aWNz2AliB",
        "2DejudWSA-a0",
        "pEMng2IbBLp7",
        "rAdphbQ9Bhjc",
        "TNVZ9zx19K6k",
        "nqoHp30x9hH9",
        "rMDnDkt2B6du",
        "yiiVWRdJDDil",
        "1UUpS68QDMuG",
        "kexQrXU-DjzY",
        "T5CmagL3EC8N",
        "BhH2vgX9EjGr",
        "qjKvONjwE8ra",
        "P1XJ9OREExlT",
        "VFOzZv6IFROw",
        "TIqpNgepFxVj",
        "VfCC591jGiD4",
        "OB4l2ZhMeS1U",
        "ArJBuiUVfxKd",
        "4qY1EAkEfxKe",
        "PiV4Ypx8fxKe",
        "TfvqoZmBfxKf",
        "dJ2tPlVmpsJ0",
        "JWYfwnehpsJ1",
        "-jK_YjpMpsJ2",
        "HAih1iBOpsJ2",
        "zVGeBEFhpsJ2",
        "bmKjuQ-FpsJ3",
        "Fze-IPXLpx6K",
        "7AN1z2sKpx6M",
        "9PIHJqyupx6M",
        "_-qAgymDpx6N",
        "Z-hykwinpx6N",
        "h_CCil-SKHpo",
        "cBFFvTBNJzUa",
        "HvGl1hHyA_VK",
        "EyNgTHvd2WFk",
        "KH5McJBi2d8v",
        "iW_Lq9qf2h6X",
        "-Kee-DAl2viO",
        "gCX9965dhzqZ",
        "gIfDvo9L0UH2"
      ]
    },
    "kernelspec": {
      "name": "python3",
      "display_name": "Python 3"
    },
    "language_info": {
      "name": "python"
    }
  },
  "cells": [
    {
      "cell_type": "markdown",
      "source": [
        "# **Project Name**    - Retail Sales Prediction\n",
        "\n"
      ],
      "metadata": {
        "id": "vncDsAP0Gaoa"
      }
    },
    {
      "cell_type": "markdown",
      "source": [
        "##### **Project Type**    - Regression\n",
        "##### **Contribution**    - Individual\n",
        "##### **Name**            - Bhagwanji Verma"
      ],
      "metadata": {
        "id": "beRrZCGUAJYm"
      }
    },
    {
      "cell_type": "markdown",
      "source": [
        "# **Project Summary -**"
      ],
      "metadata": {
        "id": "FJNUwmbgGyua"
      }
    },
    {
      "cell_type": "markdown",
      "source": [
        "### Rossmann operates over 3,000 drug stores in 7 European countries. Currently, Rossmann store managers are tasked with predicting their daily sales for up to six weeks in advance. Store sales are influenced by many factors, including promotions, competition, school and state holidays, seasonality, and locality. With thousands of individual managers predicting sales based on their unique circumstances, the accuracy of results can be quite varied.\n",
        "\n",
        "### You are provided with historical sales data for 1,115 Rossmann stores. The task is to forecast the \"Sales\" column for the test set. Note that some stores in the dataset were temporarily closed for refurbishment."
      ],
      "metadata": {
        "id": "F6v_1wHtG2nS"
      }
    },
    {
      "cell_type": "markdown",
      "source": [
        "# **GitHub Link -**"
      ],
      "metadata": {
        "id": "w6K7xa23Elo4"
      }
    },
    {
      "cell_type": "markdown",
      "source": [
        "https://github.com/Bhagwanjiv/Final_Draft_Retail_Sales_Prediction_Submission_Bhagwanji_Verma"
      ],
      "metadata": {
        "id": "h1o69JH3Eqqn"
      }
    },
    {
      "cell_type": "markdown",
      "source": [
        "# **Problem Statement**\n"
      ],
      "metadata": {
        "id": "yQaldy8SH6Dl"
      }
    },
    {
      "cell_type": "markdown",
      "source": [
        "Rossmann operates over 3,000 drug stores in 7 European countries. Currently, Rossmann store managers are tasked with predicting their daily sales for up to six weeks in advance. Store sales are influenced by many factors, including promotions, competition, school and state holidays, seasonality, and locality. With thousands of individual managers predicting sales based on their unique circumstances, the accuracy of results can be quite varied.\n",
        "You are provided with historical sales data for 1,115 Rossmann stores. The task is to forecast the \"Sales\" column for the test set. Note that some stores in the dataset were temporarily closed for refurbishment."
      ],
      "metadata": {
        "id": "DpeJGUA3kjGy"
      }
    },
    {
      "cell_type": "markdown",
      "source": [
        "# **General Guidelines** : -"
      ],
      "metadata": {
        "id": "mDgbUHAGgjLW"
      }
    },
    {
      "cell_type": "markdown",
      "source": [
        "1.   Well-structured, formatted, and commented code is required.\n",
        "2.   Exception Handling, Production Grade Code & Deployment Ready Code will be a plus. Those students will be awarded some additional credits.\n",
        "\n",
        "     The additional credits will have advantages over other students during Star Student selection.\n",
        "\n",
        "             [ Note: - Deployment Ready Code is defined as, the whole .ipynb notebook should be executable in one go\n",
        "                       without a single error logged. ]\n",
        "\n",
        "3.   Each and every logic should have proper comments.\n",
        "4. You may add as many number of charts you want. Make Sure for each and every chart the following format should be answered.\n",
        "\n",
        "\n",
        "```\n",
        "# Chart visualization code\n",
        "```\n",
        "\n",
        "\n",
        "*   Why did you pick the specific chart?\n",
        "*   What is/are the insight(s) found from the chart?\n",
        "* Will the gained insights help creating a positive business impact?\n",
        "Are there any insights that lead to negative growth? Justify with specific reason.\n",
        "\n",
        "5. You have to create at least 15 logical & meaningful charts having important insights.\n",
        "\n",
        "\n",
        "[ Hints : - Do the Vizualization in  a structured way while following \"UBM\" Rule.\n",
        "\n",
        "U - Univariate Analysis,\n",
        "\n",
        "B - Bivariate Analysis (Numerical - Categorical, Numerical - Numerical, Categorical - Categorical)\n",
        "\n",
        "M - Multivariate Analysis\n",
        " ]\n",
        "\n",
        "\n",
        "\n",
        "\n",
        "\n",
        "6. You may add more ml algorithms for model creation. Make sure for each and every algorithm, the following format should be answered.\n",
        "\n",
        "\n",
        "*   Explain the ML Model used and it's performance using Evaluation metric Score Chart.\n",
        "\n",
        "\n",
        "*   Cross- Validation & Hyperparameter Tuning\n",
        "\n",
        "*   Have you seen any improvement? Note down the improvement with updates Evaluation metric Score Chart.\n",
        "\n",
        "*   Explain each evaluation metric's indication towards business and the business impact pf the ML model used.\n",
        "\n",
        "\n",
        "\n",
        "\n",
        "\n",
        "\n",
        "\n",
        "\n",
        "\n",
        "\n",
        "\n",
        "\n",
        "\n",
        "\n",
        "\n",
        "\n",
        "\n",
        "\n"
      ],
      "metadata": {
        "id": "ZrxVaUj-hHfC"
      }
    },
    {
      "cell_type": "markdown",
      "source": [
        "# ***Let's Begin !***"
      ],
      "metadata": {
        "id": "O_i_v8NEhb9l"
      }
    },
    {
      "cell_type": "markdown",
      "source": [
        "## ***1. Know Your Data***"
      ],
      "metadata": {
        "id": "HhfV-JJviCcP"
      }
    },
    {
      "cell_type": "markdown",
      "source": [
        "### Import Libraries"
      ],
      "metadata": {
        "id": "Y3lxredqlCYt"
      }
    },
    {
      "cell_type": "code",
      "source": [
        "# Import Libraries\n",
        "import pandas as pd\n",
        "import numpy as np\n",
        "import scipy\n",
        "import matplotlib as mpl\n",
        "import matplotlib.pyplot as plt\n",
        "%matplotlib inline\n",
        "import seaborn as sns\n",
        "from datetime import datetime\n",
        "\n",
        "import warnings\n",
        "warnings.filterwarnings('ignore')\n",
        "\n",
        "plt.rcParams.update({'figure.figsize':(8,6),'figure.dpi':100})\n"
      ],
      "metadata": {
        "id": "M8Vqi-pPk-HR"
      },
      "execution_count": null,
      "outputs": []
    },
    {
      "cell_type": "markdown",
      "source": [
        "###Mount the Drive and Import the Dataset"
      ],
      "metadata": {
        "id": "SfywAErgpPTi"
      }
    },
    {
      "cell_type": "code",
      "source": [
        "# Mount the Google Drive for Import the Dataset\n",
        "from google.colab import drive\n",
        "drive.mount('/content/drive')"
      ],
      "metadata": {
        "id": "JPbaTN_ZpXaz"
      },
      "execution_count": null,
      "outputs": []
    },
    {
      "cell_type": "markdown",
      "source": [
        "### Dataset Loading"
      ],
      "metadata": {
        "id": "3RnN4peoiCZX"
      }
    },
    {
      "cell_type": "code",
      "source": [
        "# Load Dataset\n",
        "sales_data =pd.read_csv(\"/content/drive/MyDrive/Katdrive/Rossmann Stores Data.csv\")\n",
        "\n",
        "store_data=pd.read_csv(\"/content/drive/MyDrive/Katdrive/store.csv\")"
      ],
      "metadata": {
        "id": "4CkvbW_SlZ_R"
      },
      "execution_count": null,
      "outputs": []
    },
    {
      "cell_type": "code",
      "source": [
        "sales_data.head() #first look at sales data"
      ],
      "metadata": {
        "id": "tEuyu3VDaIdm"
      },
      "execution_count": null,
      "outputs": []
    },
    {
      "cell_type": "code",
      "source": [
        "store_data.head() # First look at store data"
      ],
      "metadata": {
        "id": "treLTY99aMf6"
      },
      "execution_count": null,
      "outputs": []
    },
    {
      "cell_type": "code",
      "source": [
        "df=sales_data.merge(store_data, how='outer', on='Store') #Merge Both dataframes"
      ],
      "metadata": {
        "id": "0tubIvTaaQKE"
      },
      "execution_count": null,
      "outputs": []
    },
    {
      "cell_type": "markdown",
      "source": [
        "### Dataset First View"
      ],
      "metadata": {
        "id": "x71ZqKXriCWQ"
      }
    },
    {
      "cell_type": "code",
      "source": [
        "# Dataset First Look\n",
        "df.head()"
      ],
      "metadata": {
        "id": "LWNFOSvLl09H"
      },
      "execution_count": null,
      "outputs": []
    },
    {
      "cell_type": "code",
      "source": [
        "df.shape # check the shape of the data after merging the sales and store data"
      ],
      "metadata": {
        "id": "nRRuvFJgqd9-"
      },
      "execution_count": null,
      "outputs": []
    },
    {
      "cell_type": "markdown",
      "source": [
        "### Dataset Rows & Columns count"
      ],
      "metadata": {
        "id": "7hBIi_osiCS2"
      }
    },
    {
      "cell_type": "code",
      "source": [
        "# Dataset Rows & Columns count\n",
        "print('The number of rows in data is:',df.shape[0])\n",
        "print('The number of columns in data is',len(list(df.columns)))"
      ],
      "metadata": {
        "id": "Kllu7SJgmLij"
      },
      "execution_count": null,
      "outputs": []
    },
    {
      "cell_type": "markdown",
      "source": [
        "### Dataset Information"
      ],
      "metadata": {
        "id": "JlHwYmJAmNHm"
      }
    },
    {
      "cell_type": "code",
      "source": [
        "# Dataset Info\n",
        "df.info()"
      ],
      "metadata": {
        "id": "e9hRXRi6meOf"
      },
      "execution_count": null,
      "outputs": []
    },
    {
      "cell_type": "markdown",
      "source": [
        "#### Duplicate Values"
      ],
      "metadata": {
        "id": "35m5QtbWiB9F"
      }
    },
    {
      "cell_type": "code",
      "source": [
        "# Dataset Duplicate Value Count\n",
        "duplicate_rows_in_store_data = df.duplicated().sum()\n",
        "print('The number of duplicates in store data is:',duplicate_rows_in_store_data)"
      ],
      "metadata": {
        "id": "1sLdpKYkmox0"
      },
      "execution_count": null,
      "outputs": []
    },
    {
      "cell_type": "markdown",
      "source": [
        "#### Missing Values/Null Values"
      ],
      "metadata": {
        "id": "PoPl-ycgm1ru"
      }
    },
    {
      "cell_type": "code",
      "source": [
        "# Missing Values/Null Values Count\n",
        "print(df.isnull().sum())"
      ],
      "metadata": {
        "id": "GgHWkxvamxVg"
      },
      "execution_count": null,
      "outputs": []
    },
    {
      "cell_type": "code",
      "source": [
        "# Visualizing the missing values\n",
        "\n",
        "sns.heatmap(df.isnull(), cbar=True)"
      ],
      "metadata": {
        "id": "3q5wnI3om9sJ"
      },
      "execution_count": null,
      "outputs": []
    },
    {
      "cell_type": "markdown",
      "source": [
        "### What did you know about your dataset?"
      ],
      "metadata": {
        "id": "H0kj-8xxnORC"
      }
    },
    {
      "cell_type": "markdown",
      "source": [
        "The given dataset is a dataset from Rossmen industry who operates over 3,000 drug stores in 7 European countries, and we have to analysis the sales of the stores and whatbare the factores affecting the sales.\n",
        "in our given dataset has 1017209 rows and 18 columnn and There are some missing values and there is no duplicate values in the dataset"
      ],
      "metadata": {
        "id": "gfoNAAC-nUe_"
      }
    },
    {
      "cell_type": "markdown",
      "source": [
        "## ***2. Understanding Your Variables***"
      ],
      "metadata": {
        "id": "nA9Y7ga8ng1Z"
      }
    },
    {
      "cell_type": "code",
      "source": [
        "# Dataset Columns\n",
        "print(df.columns)"
      ],
      "metadata": {
        "id": "j7xfkqrt5Ag5"
      },
      "execution_count": null,
      "outputs": []
    },
    {
      "cell_type": "code",
      "source": [
        "df.Date"
      ],
      "metadata": {
        "id": "DnOaZdaE5Q5t"
      },
      "execution_count": null,
      "outputs": []
    },
    {
      "cell_type": "code",
      "source": [
        "# Dataset Describe\n",
        "df.describe()"
      ],
      "metadata": {
        "id": "yj4iwLnTrqSa"
      },
      "execution_count": null,
      "outputs": []
    },
    {
      "cell_type": "markdown",
      "source": [
        "### Variables Description"
      ],
      "metadata": {
        "id": "PBTbrJXOngz2"
      }
    },
    {
      "cell_type": "markdown",
      "source": [
        "1. Id - an Id that represents a (Store, Date) duple within the test set\n",
        "2. Store - a unique Id for each store\n",
        "3. Sales - the turnover for any given day (this is what you are predicting)\n",
        "4. Customers - the number of customers on a given day.\n",
        "5. Open - an indicator for whether the store was open: 0 = closed, 1 = open.\n",
        "6. StateHoliday - indicates a state holiday. Normally all stores, with few exceptions, are closed on state holidays. 0->No holidays and a,b,c->Different types holidays.\n",
        "7. SchoolHoliday - Indicates whether school was open or closed(0-Open,1-Closed).\n",
        "8. StoreType - differentiates between 4 different store models: a, b, c, d\n",
        "9. Assortment - describes an assortment level: a = basic, b = extra, c = extended\n",
        "10. CompetitionDistance - distance in meters to the nearest competitor store\n",
        "11. CompetitionOpenSince[Month/Year] - gives the approximate year and month of the time the nearest competitor was opened\n",
        "12. Promo - indicates whether a store is running a promo on that day\n",
        "13. Promo2 - Promo2 is a continuing and consecutive promotion for some stores: 0 = store is not participating, 1 = store is participating\n",
        "14. Promo2Since[Year/Week] - describes the year and calendar week when the store started participating in Promo2\n",
        "15. PromoInterval - describes the consecutive intervals Promo2 is started, naming the months the promotion is started anew. E.g. \"Feb,May,Aug,Nov\" means each round starts in February, May, August, November of any given year for that store"
      ],
      "metadata": {
        "id": "aJV4KIxSnxay"
      }
    },
    {
      "cell_type": "markdown",
      "source": [
        "### Check Unique Values for each variable."
      ],
      "metadata": {
        "id": "u3PMJOP6ngxN"
      }
    },
    {
      "cell_type": "code",
      "source": [
        "# Check Unique Values for each variable.\n",
        "for col in df.columns:\n",
        "  if col in ['Sales','CompetitionDistance','Date']:\n",
        "    continue\n",
        "  else:\n",
        "    print(f'The unique values in column {col} are',df[col].unique())"
      ],
      "metadata": {
        "id": "zms12Yq5n-jE"
      },
      "execution_count": null,
      "outputs": []
    },
    {
      "cell_type": "code",
      "source": [
        "df.Promo2.unique()"
      ],
      "metadata": {
        "id": "O4s7mGPGbVsT"
      },
      "execution_count": null,
      "outputs": []
    },
    {
      "cell_type": "code",
      "source": [
        "# Check Unique Values for each variable.\n",
        "for i in df.columns.tolist():\n",
        "  print(\"No. of unique values in \",i,\"is\",df[i].nunique(),\".\")"
      ],
      "metadata": {
        "id": "irdJF2LAbZhM"
      },
      "execution_count": null,
      "outputs": []
    },
    {
      "cell_type": "markdown",
      "source": [
        "## 3. ***Data Wrangling***"
      ],
      "metadata": {
        "id": "dauF4eBmngu3"
      }
    },
    {
      "cell_type": "markdown",
      "source": [
        "### Data Wrangling Code"
      ],
      "metadata": {
        "id": "bKJF3rekwFvQ"
      }
    },
    {
      "cell_type": "code",
      "source": [
        "# Write your code to make your dataset analysis ready."
      ],
      "metadata": {
        "id": "wk-9a2fpoLcV"
      },
      "execution_count": null,
      "outputs": []
    },
    {
      "cell_type": "code",
      "source": [
        "print(df['StateHoliday'].unique())\n",
        "print(\" \")\n",
        "# Getting Unique StateHoliday Count\n",
        "print(\"Unique StateHoliday Count is \",df['StateHoliday'].nunique())"
      ],
      "metadata": {
        "id": "OF6jWRlMtCdh"
      },
      "execution_count": null,
      "outputs": []
    },
    {
      "cell_type": "markdown",
      "source": [
        "In the above output, 'StateHoliday' contains two types of zeros. One is object type and other one is int type. So, we need to change the dtype of zero which is in incorrect data type."
      ],
      "metadata": {
        "id": "S5tOU3vTbnVl"
      }
    },
    {
      "cell_type": "code",
      "source": [
        "# In StateHloday column, there is a string \"0\" so, convert it into int type\n",
        "df['StateHoliday'].replace({'0':0}, inplace=True)"
      ],
      "metadata": {
        "id": "MTSE74XStOEz"
      },
      "execution_count": null,
      "outputs": []
    },
    {
      "cell_type": "code",
      "source": [
        "df.StateHoliday.unique()"
      ],
      "metadata": {
        "id": "KRH9eESbtpLc"
      },
      "execution_count": null,
      "outputs": []
    },
    {
      "cell_type": "code",
      "source": [
        "print(df['PromoInterval'].unique())\n",
        "print(\" \")\n",
        "# Getting Unique PromoInterval Count\n",
        "print(\"Unique StateHoliday Count is \",df['PromoInterval'].nunique())"
      ],
      "metadata": {
        "id": "KvuK4oAvtqyc"
      },
      "execution_count": null,
      "outputs": []
    },
    {
      "cell_type": "code",
      "source": [
        "# Getting Unique Store types\n",
        "print(df['StoreType'].unique())\n",
        "print(\" \")\n",
        "# Getting Unique States Count\n",
        "print(\"Unique States Count is \",df['StoreType'].nunique(),\".\")"
      ],
      "metadata": {
        "id": "4qrxxGWJtuXb"
      },
      "execution_count": null,
      "outputs": []
    },
    {
      "cell_type": "code",
      "source": [
        "# assigning as a categorical variables\n",
        "categorical_variables = ['DayOfWeek','Open','Promo','StateHoliday','SchoolHoliday','StoreType','Assortment','CompetitionOpenSinceMonth',\n",
        "                         'CompetitionOpenSinceYear','Promo2','Promo2SinceWeek','Promo2SinceYear','PromoInterval']"
      ],
      "metadata": {
        "id": "Z_kX9wQytxkl"
      },
      "execution_count": null,
      "outputs": []
    },
    {
      "cell_type": "code",
      "source": [
        "# Convert the 'Date' column to a datetime data type, specifying the date format\n",
        "df['Date'] = pd.to_datetime(df['Date'], format='%Y-%m-%d')\n",
        "\n",
        "# Extract the year, month, and day from the 'Date' column\n",
        "df['year'] = df['Date'].dt.year\n",
        "df['month'] = df['Date'].dt.month\n",
        "df['WeekOfYear'] = df['Date'].dt.isocalendar().week\n",
        "df['DayOfYear'] = df['Date'].dt.dayofyear"
      ],
      "metadata": {
        "id": "IV77-rgbt1ID"
      },
      "execution_count": null,
      "outputs": []
    },
    {
      "cell_type": "markdown",
      "source": [
        "Hence, our dataframe contains object data type, so we converted it into datetime as shown above."
      ],
      "metadata": {
        "id": "j9YRN__ecGL8"
      }
    },
    {
      "cell_type": "code",
      "source": [
        "#Here we are checking average sale of each type of store\n",
        "print(df[df['StoreType'] == 'a']['Sales'].mean())\n",
        "print(df[df['StoreType'] == 'b']['Sales'].mean())\n",
        "print(df[df['StoreType'] == 'c']['Sales'].mean())\n",
        "print(df[df['StoreType'] == 'd']['Sales'].mean())"
      ],
      "metadata": {
        "id": "3yeky5RbuD_V"
      },
      "execution_count": null,
      "outputs": []
    },
    {
      "cell_type": "code",
      "source": [
        "#Counts of Store of Each Type\n",
        "df.StoreType.value_counts()"
      ],
      "metadata": {
        "id": "uuDPS8JquFZ4"
      },
      "execution_count": null,
      "outputs": []
    },
    {
      "cell_type": "code",
      "source": [
        "#Extracting day from date and time\n",
        "df[\"Day\"] = df['Date'].dt.day_name()"
      ],
      "metadata": {
        "id": "gy9pNLneuUAT"
      },
      "execution_count": null,
      "outputs": []
    },
    {
      "cell_type": "code",
      "source": [
        "#Extracting Months from date and time\n",
        "df[\"Months\"] = df[\"Date\"].dt.month_name()"
      ],
      "metadata": {
        "id": "6nns4tkMuY46"
      },
      "execution_count": null,
      "outputs": []
    },
    {
      "cell_type": "code",
      "source": [
        "#checking sale on weekend\n",
        "weekend_sale = df.groupby(['StoreType','Day'])['Sales'].mean().reset_index()\n",
        "weekend_sale.rename(columns={'Sales': 'Mean Sales on Day'}, inplace=True)\n",
        "weekend_sale"
      ],
      "metadata": {
        "id": "1HPudtgTcYUD"
      },
      "execution_count": null,
      "outputs": []
    },
    {
      "cell_type": "code",
      "source": [
        "#checking Sale on each months try to find sale on summer vocation\n",
        "monthly_sale = df.groupby(['Months'])['Sales'].mean().sort_values()\n",
        "monthly_sale"
      ],
      "metadata": {
        "id": "zlM6GatscdYK"
      },
      "execution_count": null,
      "outputs": []
    },
    {
      "cell_type": "code",
      "source": [
        "df.drop(['Months','Day'], axis=1, inplace=True)"
      ],
      "metadata": {
        "id": "e4YQ4fSrcgid"
      },
      "execution_count": null,
      "outputs": []
    },
    {
      "cell_type": "code",
      "source": [
        "#Store Type and Sales Exploration\n",
        "store_type = df.groupby(\"StoreType\")[\"Sales\",\"Customers\"].sum().reset_index()\n",
        "store_type.sort_values([\"Sales\",\"Customers\"], ascending= False, inplace = True) # sorting into descending order to get higher values\n",
        "store_type.rename(columns={'Sales': 'Total Sale'}, inplace=True)\n",
        "store_type.rename(columns={'Customers': 'Total Customers'}, inplace=True)\n",
        "store_type"
      ],
      "metadata": {
        "id": "_r_CbdIfciKb"
      },
      "execution_count": null,
      "outputs": []
    },
    {
      "cell_type": "code",
      "source": [
        "store_open = df.groupby(\"StoreType\")[\"Open\",\"StateHoliday\",\"SchoolHoliday\"].sum().reset_index()\n",
        "store_open"
      ],
      "metadata": {
        "id": "Z8_37SUIcm6f"
      },
      "execution_count": null,
      "outputs": []
    },
    {
      "cell_type": "code",
      "source": [
        "store_assortment = df.groupby(['StoreType'])['Promo','Promo2'].count().reset_index()\n",
        "store_assortment"
      ],
      "metadata": {
        "id": "Th5JYPh7cp5C"
      },
      "execution_count": null,
      "outputs": []
    },
    {
      "cell_type": "code",
      "source": [
        "df.columns"
      ],
      "metadata": {
        "id": "ux4aunGBcryg"
      },
      "execution_count": null,
      "outputs": []
    },
    {
      "cell_type": "code",
      "source": [
        "sales_in_each_assortemt =df.groupby(['StoreType','Assortment'])['Sales'].sum().reset_index()\n",
        "sales_in_each_assortemt"
      ],
      "metadata": {
        "id": "8P6kRElAcuVN"
      },
      "execution_count": null,
      "outputs": []
    },
    {
      "cell_type": "code",
      "source": [
        "#just looking at the daily sales numbers over time.\n",
        "sales_date = df.groupby(by='Date').agg({'Sales': 'sum'}).reset_index()\n",
        "sales_date"
      ],
      "metadata": {
        "id": "AiA4J3SjcxWE"
      },
      "execution_count": null,
      "outputs": []
    },
    {
      "cell_type": "code",
      "source": [
        "df.PromoInterval.values"
      ],
      "metadata": {
        "id": "z7RByhVfc0EH"
      },
      "execution_count": null,
      "outputs": []
    },
    {
      "cell_type": "code",
      "source": [
        "#here obtaining average sales over months and years.\n",
        "df.groupby(['year','month'])['Sales'].mean()\n"
      ],
      "metadata": {
        "id": "XoFpJE3jc2_B"
      },
      "execution_count": null,
      "outputs": []
    },
    {
      "cell_type": "code",
      "source": [
        "# here exploring store types along with assortment , state holiday and avg sales\n",
        "df.groupby(['StoreType','Assortment','StateHoliday'])['Sales'].mean()"
      ],
      "metadata": {
        "id": "NEQw2JoPc6GL"
      },
      "execution_count": null,
      "outputs": []
    },
    {
      "cell_type": "markdown",
      "source": [
        "### What all manipulations have you done and insights you found?"
      ],
      "metadata": {
        "id": "MSa1f5Uengrz"
      }
    },
    {
      "cell_type": "markdown",
      "source": [
        "We delved into the data, scrutinizing every variable and discovered a relationship between sales (the target variable) and the independent (or predictor) variables. We found four distinct store types, with type-a being the most abundant and type-b the least. Further examination revealed that, despite having fewer stores, type-b boasted the highest average sales.\n",
        "\n",
        "However, when looking at overall sales, type *a* came out on top. An analysis of customers by store type showed that type *a* leads the pack, indicating a higher number of visits to these stores.\n",
        "\n",
        "\n",
        "We were a little curious as to why the sales of Store a are so high?\n",
        "\n",
        "We investigated it further and found out that type *a* stores are the most and they have more customers.\n",
        "When looking at store Assortment, we found out that stores types *b* has lowest Assortment and store type *a* has highest assortments, and also type *b* assortments represent a small share of total sales, as shown below.\n",
        "\n",
        "![image.png](data:image/png;base64,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)"
      ],
      "metadata": {
        "id": "LbyXE7I1olp8"
      }
    },
    {
      "cell_type": "markdown",
      "source": [
        "## ***4. Data Vizualization, Storytelling & Experimenting with charts : Understand the relationships between variables***"
      ],
      "metadata": {
        "id": "GF8Ens_Soomf"
      }
    },
    {
      "cell_type": "markdown",
      "source": [
        "#### Chart - 1 Pie Chart on Independant Variable i.e., Assortment (Univariate)"
      ],
      "metadata": {
        "id": "0wOQAZs5pc--"
      }
    },
    {
      "cell_type": "code",
      "source": [
        "# Chart - 1 visualization code\n",
        "# Indepnedent Column (Assorment) Value Counts\n",
        "print(df.Assortment.value_counts())\n",
        "print(\" \")\n",
        "# Dependant Variable Column Visualization\n",
        "df['Assortment'].value_counts().plot.pie(title='Percentage of stores having Assortment levels', legend=True, autopct='%1.1f%%', shadow=True)\n",
        "plt.show()"
      ],
      "metadata": {
        "id": "7v_ESjsspbW7"
      },
      "execution_count": null,
      "outputs": []
    },
    {
      "cell_type": "markdown",
      "source": [
        "##### 1. Why did you pick the specific chart?"
      ],
      "metadata": {
        "id": "K5QZ13OEpz2H"
      }
    },
    {
      "cell_type": "markdown",
      "source": [
        "We chose the pie chart for its ability to simplify even the most complex data by breaking it down into smaller parts represented by slices. This makes it easier to understand. Additionally, the pie chart is best suited to showcase categorical features."
      ],
      "metadata": {
        "id": "XESiWehPqBRc"
      }
    },
    {
      "cell_type": "markdown",
      "source": [
        "##### 2. What is/are the insight(s) found from the chart?"
      ],
      "metadata": {
        "id": "lQ7QKXXCp7Bj"
      }
    },
    {
      "cell_type": "markdown",
      "source": [
        "From the above chart, we can get the following insights.\n",
        "\n",
        "1.   52.8 % stores have a:basic type assortment strategy\n",
        "2.   46.3 % stores have c:Extented type assortment strategy\n",
        "3.   0.8 % stores have  b:Extra type assortment strategy.\n",
        "Here, we can see that maximum number of stores have basic or Extended type assortment strategy."
      ],
      "metadata": {
        "id": "C_j1G7yiqdRP"
      }
    },
    {
      "cell_type": "markdown",
      "source": [
        "##### 3. Will the gained insights help creating a positive business impact?\n",
        "Are there any insights that lead to negative growth? Justify with specific reason."
      ],
      "metadata": {
        "id": "448CDAPjqfQr"
      }
    },
    {
      "cell_type": "markdown",
      "source": [
        "An Assortment strategy in retailing involves determining the number and type of products displayed for purchase by consumers in a store. The basic (a) and extended (c) assortment strategies are seeing positive growth, as most stores applying these strategies experience positive sales growth. Conversely, stores with the b : Extra type assortment experience negative sales growth. Therefore, most stores are not opting for the 'c' type assortment strategy."
      ],
      "metadata": {
        "id": "3cspy4FjqxJW"
      }
    },
    {
      "cell_type": "markdown",
      "source": [
        "#### Chart - 2 Count plot on Independent variable i.e.., StoreType (Univariate)"
      ],
      "metadata": {
        "id": "KSlN3yHqYklG"
      }
    },
    {
      "cell_type": "code",
      "source": [
        "# Chart - 2 visualization code\n",
        "# Defining  a Function to make plot in percentage.\n",
        "def with_percent (plot , feature):\n",
        "  totals = []\n",
        "  for i in ax.patches:\n",
        "      totals.append(i.get_height())\n",
        "      total = sum(totals)\n",
        "\n",
        "  for i in ax.patches:\n",
        "      ax.text(i.get_x() -.01, i.get_height() + 0.5, \\\n",
        "              str(round((i.get_height()/total)*100, 2))+'%', fontsize=12)\n",
        "\n",
        "  plt.show()"
      ],
      "metadata": {
        "id": "R4YgtaqtYklH"
      },
      "execution_count": null,
      "outputs": []
    },
    {
      "cell_type": "code",
      "source": [
        "# Count plot.\n",
        "ax=sns.countplot(x = df['StoreType'])\n",
        "with_percent(ax, df['StoreType'])\n",
        "plt.show()"
      ],
      "metadata": {
        "id": "8DtEk8Q73df1"
      },
      "execution_count": null,
      "outputs": []
    },
    {
      "cell_type": "markdown",
      "source": [
        "##### 1. Why did you pick the specific chart?"
      ],
      "metadata": {
        "id": "t6dVpIINYklI"
      }
    },
    {
      "cell_type": "markdown",
      "source": [
        "We use countplot because it is used to represent the occurrence (counts) of the observation present in the categorical variable. It uses the concept of a bar chart for the visual depiction."
      ],
      "metadata": {
        "id": "5aaW0BYyYklI"
      }
    },
    {
      "cell_type": "markdown",
      "source": [
        "##### 2. What is/are the insight(s) found from the chart?"
      ],
      "metadata": {
        "id": "ijmpgYnKYklI"
      }
    },
    {
      "cell_type": "markdown",
      "source": [
        "Here, we have count the type of stores of each categories in the given data:\n",
        "\n",
        "\n",
        "1.   54.23 % of Type : **'a'** Store model\n",
        "2.   30.76 % of Type : **'d'** Store model\n",
        "3.   13.45 % of Type : **'c'** Store model\n",
        "4.   1.56  % of Type : **'b'** Store model"
      ],
      "metadata": {
        "id": "PSx9atu2YklI"
      }
    },
    {
      "cell_type": "markdown",
      "source": [
        "##### 3. Will the gained insights help creating a positive business impact?\n",
        "Are there any insights that lead to negative growth? Justify with specific reason."
      ],
      "metadata": {
        "id": "-JiQyfWJYklI"
      }
    },
    {
      "cell_type": "markdown",
      "source": [
        "In the data stores are divided into 4 different types.Here we can see that maximum number of stores of Type **a** is present.Here in this analysis we cannot predict the growth of sales but in further analysis we will see that growth of sales."
      ],
      "metadata": {
        "id": "BcBbebzrYklV"
      }
    },
    {
      "cell_type": "markdown",
      "source": [
        "#### Chart - 3 Pie Plot to check Percentage of stores open or close (Univariate) or doing sales."
      ],
      "metadata": {
        "id": "EM7whBJCYoAo"
      }
    },
    {
      "cell_type": "code",
      "source": [
        "# Chart - 3 visualization code\n",
        "df['Open'].value_counts().plot.pie(title='Percentage of stores open or close', legend=True, autopct='%1.1f%%', shadow=True)"
      ],
      "metadata": {
        "id": "t6GMdE67YoAp"
      },
      "execution_count": null,
      "outputs": []
    },
    {
      "cell_type": "markdown",
      "source": [
        "##### 1. Why did you pick the specific chart?"
      ],
      "metadata": {
        "id": "fge-S5ZAYoAp"
      }
    },
    {
      "cell_type": "markdown",
      "source": [
        "We choose a pie chart because a pie chart is a circular representation of data that is measured in one variable. It breaks down the data into categories, with each category represented as a sector of the chart. It provides a clear illustration of the percentage of stores that are open or closed in the given data through labeling."
      ],
      "metadata": {
        "id": "5dBItgRVYoAp"
      }
    },
    {
      "cell_type": "markdown",
      "source": [
        "##### 2. What is/are the insight(s) found from the chart?"
      ],
      "metadata": {
        "id": "85gYPyotYoAp"
      }
    },
    {
      "cell_type": "markdown",
      "source": [
        "**1**-*Stores are Open*\n",
        "\n",
        "**0**-*Stores are Closed*\n",
        "\n",
        "Here, we observe that 83% of the stores are operational and generating sales, while 17% of the stores are closed due to state holidays, school holidays or temporary closures for refurbishment."
      ],
      "metadata": {
        "id": "4jstXR6OYoAp"
      }
    },
    {
      "cell_type": "markdown",
      "source": [
        "##### 3. Will the gained insights help creating a positive business impact?\n",
        "Are there any insights that lead to negative growth? Justify with specific reason."
      ],
      "metadata": {
        "id": "RoGjAbkUYoAp"
      }
    },
    {
      "cell_type": "markdown",
      "source": [
        "The **Open** feature in the dataset indicates which stores are open or closed. In this data, 83% of the stores are open and generating sales, which is a positive business impact as it is representative of more than 80% of Rossmann's operations. However, 17% of the stores remain closed due to state holidays, school holidays, or temporary closures for refurbishment, which may affect Rossmann's sales. In further analysis, we will examine how other factors impact Rossmann's sales."
      ],
      "metadata": {
        "id": "zfJ8IqMcYoAp"
      }
    },
    {
      "cell_type": "markdown",
      "source": [
        "#### Chart - 4 Bar Plot of various categorical variable the basis of Sales (Bivariate)"
      ],
      "metadata": {
        "id": "4Of9eVA-YrdM"
      }
    },
    {
      "cell_type": "code",
      "source": [
        "# Chart - 4 visualization code\n",
        "# Here we are making a list of various categorical variables.\n",
        "independent_variables = ['DayOfWeek','Open','Promo','StateHoliday','SchoolHoliday','StoreType','CompetitionOpenSinceMonth',\n",
        "                         'Promo2','Promo2SinceYear','PromoInterval']\n",
        "for var in independent_variables:\n",
        "  ax = sns.barplot(x=df[var], y=df['Sales'])\n",
        "  #now here trying to show percentage at bar plot\n",
        "  totals = []\n",
        "  for i in ax.patches:\n",
        "      totals.append(i.get_height())\n",
        "      total = sum(totals)\n",
        "\n",
        "  for i in ax.patches:\n",
        "      ax.text(i.get_x() - .01, i.get_height() + .5, \\\n",
        "              str(round((i.get_height()/total)*100, 2))+'%', fontsize=12)\n",
        "\n",
        "  plt.show()"
      ],
      "metadata": {
        "id": "irlUoxc8YrdO"
      },
      "execution_count": null,
      "outputs": []
    },
    {
      "cell_type": "markdown",
      "source": [
        "##### 1. Why did you pick the specific chart?"
      ],
      "metadata": {
        "id": "iky9q4vBYrdO"
      }
    },
    {
      "cell_type": "markdown",
      "source": [
        "Here, we chose to use a bar plot because bar graphs are effective in comparing different categories of data and presenting exact values. In this case, we are comparing various categorical variables to our target variable, Sales, in order to determine the impact each has on the sales of Rossmann stores."
      ],
      "metadata": {
        "id": "aJRCwT6DYrdO"
      }
    },
    {
      "cell_type": "markdown",
      "source": [
        "##### 2. What is/are the insight(s) found from the chart?"
      ],
      "metadata": {
        "id": "F6T5p64dYrdO"
      }
    },
    {
      "cell_type": "markdown",
      "source": [
        "We compared different categorical variables to see the insights from the plots:\n",
        "\n",
        "1. **Day of Week vs Sales:**\n",
        "We observe that sales are higher on Monday (19.3%) and lower on Sunday (0.51%). This suggests that many stores are closed on Sundays, leading to lower sales.\n",
        "\n",
        "2. **Promo vs Sales:**\n",
        "We can see that stores offering promotions or discounts have higher sales at 64.46% compared to stores not offering promotions, which only account for 35.54% of total sales.\n",
        "\n",
        "3. **State Holiday vs Sales:**\n",
        "There are four categories in state holidays:\n",
        "\n",
        "* 0: No holiday\n",
        "* a: Public holiday\n",
        "* b: Easter holiday\n",
        "* c: Christmas\n",
        "We can see that sales are low on Christmas (2.55%) which means that there are few stores open on that day, resulting in lower sales.\n",
        "\n",
        "4. **School Holiday vs Sales:**\n",
        "In this comparison, the effect of school holidays on sales is analyzed. If a store is closed for a school holiday, its sales are decreased by 46.46%. However, when comparing this to the state holiday, it appears that more stores are open during school holidays resulting in higher sales.\n",
        "\n",
        "5. **Store Type vs Sales:**\n",
        "\n",
        "There are four types of stores in the Rossmann chain, designated as \"a\", \"b\", \"c\", and \"d\". The comparison of average sales percentage for each type shows that \"a\" stores have the highest average sales at 37.03%, while the other stores have nearly equal average sales.\n",
        "\n",
        "6. **Competition Open Since Month vs Sales:**\n",
        "\n",
        "The data reveals that the highest sales occur in June, suggesting that there are fewer competing stores open during that month. Increased competition leads to a decrease in sales for a particular store.\n",
        "\n",
        "7. **Promo 2 vs Sales:**\n",
        "\n",
        "Stores that participate in promo 2, offering discounts, have sales accounting for 46.96% of the total. Meanwhile, stores not participating in promo 2 have sales accounting for 53.04% of the total, leading to negative growth in sales.\n",
        "\n",
        "8. **Competition Open Since Year vs Sales:**\n",
        "\n",
        "The data shows that in the year 2014, sales were high, indicating that there were fewer competing stores open during that year.\n",
        "\n",
        "9. **Promo Interval vs Sales:**\n",
        "\n",
        "Promo Interval refers to consecutive intervals in Promo 2. There are three intervals: Jan, Apr, Jul, Oct; Feb, May, Aug, Nov; and Mar, Jun, Sept, Dec. Stores that do not participate in any interval have the highest average sales. Among stores participating in the Promo Interval, the first interval (Jan, Apr, Jul, Oct) has the highest average sales compared to other intervals."
      ],
      "metadata": {
        "id": "Xx8WAJvtYrdO"
      }
    },
    {
      "cell_type": "markdown",
      "source": [
        "##### 3. Will the gained insights help creating a positive business impact?\n",
        "Are there any insights that lead to negative growth? Justify with specific reason."
      ],
      "metadata": {
        "id": "y-Ehk30pYrdP"
      }
    },
    {
      "cell_type": "markdown",
      "source": [
        "\n",
        "\n",
        "1.   On Monday, sales are high, so stores can stock inventory based on sales data to prevent stock shortages and have a positive business impact.\n",
        "\n",
        "2. Promos result in increased sales and positive growth.\n",
        "\n",
        "3. Christmas has a negative impact on sales.\n",
        "\n",
        "4. School holidays negatively impact sales due to lower sales.\n",
        "\n",
        "5. Store type b has a positive impact on sales as it has fewer stores but high sales compared to other store types, while store type a has a negative impact due to a high number of stores but lower average sales.\n",
        "\n",
        "6. Stores that participate in promo 2 have lower sales, leading to negative growth and a negative business impact.\n",
        "\n",
        "7. The year 2014 saw less competition, leading to positive growth in sales and a positive business impact. Sales declined from 2009 to 2013, indicating an increase in competition.\n",
        "\n",
        "8. The first promo interval (Jan, Apr, Jul, Oct) has the highest average sales compared to other promo intervals, leading to positive growth in sales.\n",
        "\n"
      ],
      "metadata": {
        "id": "jLNxxz7MYrdP"
      }
    },
    {
      "cell_type": "markdown",
      "source": [
        "#### Chart - 5  Bar Plot of Assortment on the basis of Sales (Bivariate)"
      ],
      "metadata": {
        "id": "bamQiAODYuh1"
      }
    },
    {
      "cell_type": "code",
      "source": [
        "# Chart - 5 visualization code\n",
        "sns.boxplot(x=df['Assortment'],y=df['Sales'])\n",
        "# Show the box plot\n",
        "plt.show()"
      ],
      "metadata": {
        "id": "TIJwrbroYuh3"
      },
      "execution_count": null,
      "outputs": []
    },
    {
      "cell_type": "markdown",
      "source": [
        "##### 1. Why did you pick the specific chart?"
      ],
      "metadata": {
        "id": "QHF8YVU7Yuh3"
      }
    },
    {
      "cell_type": "markdown",
      "source": [
        "A box plot is an incredibly helpful and insightful tool for presenting and comparing the summary of one or more data sets. Its utility lies in its ability to swiftly summarize and compare results from various experiments. In this instance, we employ box plots to easily compare the sales of each assortment strategy through its 5-point summary, which includes:\n",
        "1. Median Value\n",
        "2. Lower Quartile(Q1)\n",
        "3. Upper Quartile(Q3)\n",
        "4. Highest Value\n",
        "5. Lowest value"
      ],
      "metadata": {
        "id": "dcxuIMRPYuh3"
      }
    },
    {
      "cell_type": "markdown",
      "source": [
        "##### 2. What is/are the insight(s) found from the chart?"
      ],
      "metadata": {
        "id": "GwzvFGzlYuh3"
      }
    },
    {
      "cell_type": "markdown",
      "source": [
        "By examining the plot, it is apparent that:\n",
        "\n",
        "**Median Sales Value:**\n",
        "The median sales value is the highest in the *b* type assortment.\n",
        "\n",
        "**Highest Sale Value:**\n",
        "The highest sales occur in the *c* type assortment.\n",
        "\n",
        "**Maximum Sales Count:**\n",
        "The maximum number of sales among the various assortment levels falls below 10,000 sales. Additionally, the largest number of outliers are found in the sales of both the *a* and *c* type assortment strategies.\n"
      ],
      "metadata": {
        "id": "uyqkiB8YYuh3"
      }
    },
    {
      "cell_type": "markdown",
      "source": [
        "##### 3. Will the gained insights help creating a positive business impact?\n",
        "Are there any insights that lead to negative growth? Justify with specific reason."
      ],
      "metadata": {
        "id": "qYpmQ266Yuh3"
      }
    },
    {
      "cell_type": "markdown",
      "source": [
        "An assortment strategy in retailing involves the number and type of products that stores display for purchase. From the above plot, the retailer gets an idea which types of assortment stategies should he follow to get postitive growth in his sales. If Retailer follow **b:Extra** type strategy, it leads to more positive growth in Sales."
      ],
      "metadata": {
        "id": "_WtzZ_hCYuh4"
      }
    },
    {
      "cell_type": "markdown",
      "source": [
        "#### Chart - 6 Scatter plot of Sales and competition distance on the basis of Store Type (Multivariate)"
      ],
      "metadata": {
        "id": "OH-pJp9IphqM"
      }
    },
    {
      "cell_type": "code",
      "source": [
        "# Chart - 6 visualization code\n",
        "x = df['Sales']\n",
        "y = df['CompetitionDistance']\n",
        "sns.scatterplot(x=df['Sales'],y=df['CompetitionDistance'],hue=df['StoreType'])"
      ],
      "metadata": {
        "id": "kuRf4wtuphqN"
      },
      "execution_count": null,
      "outputs": []
    },
    {
      "cell_type": "markdown",
      "source": [
        "##### 1. Why did you pick the specific chart?"
      ],
      "metadata": {
        "id": "bbFf2-_FphqN"
      }
    },
    {
      "cell_type": "markdown",
      "source": [
        "Here we have used a scatter plot as it is an effective tool for identifying the correlation between two numerical variables. Our aim is to find the relationship between sales and competition distance through this plot."
      ],
      "metadata": {
        "id": "loh7H2nzphqN"
      }
    },
    {
      "cell_type": "markdown",
      "source": [
        "##### 2. What is/are the insight(s) found from the chart?"
      ],
      "metadata": {
        "id": "_ouA3fa0phqN"
      }
    },
    {
      "cell_type": "markdown",
      "source": [
        "Here we can observe that when the competition distances are low, meaning stores are located closer to each other, the sales are at a maximum. This could be due to decreased prices of products due to the competition between stores, attracting more customers, resulting in an increase in sales."
      ],
      "metadata": {
        "id": "VECbqPI7phqN"
      }
    },
    {
      "cell_type": "markdown",
      "source": [
        "##### 3. Will the gained insights help creating a positive business impact?\n",
        "Are there any insights that lead to negative growth? Justify with specific reason."
      ],
      "metadata": {
        "id": "Seke61FWphqN"
      }
    },
    {
      "cell_type": "markdown",
      "source": [
        "Yes, the above plot helps to create positive business impact because Rossmann managers get a clear picture how the distance between stores affecting the sales of stores."
      ],
      "metadata": {
        "id": "DW4_bGpfphqN"
      }
    },
    {
      "cell_type": "markdown",
      "source": [
        "#### Chart- 7 Lines Maker Plot of Date on the basis of sales (Bivariate)"
      ],
      "metadata": {
        "id": "PIIx-8_IphqN"
      }
    },
    {
      "cell_type": "code",
      "source": [
        "# Chart - 7 Visualization code\n",
        "import plotly.graph_objs as go\n",
        "fig = go.Figure()\n",
        "fig.add_trace(go.Scatter(x=sales_date['Date'], y=sales_date['Sales'],\n",
        "                    mode='lines+markers',\n",
        "                    name='actual'))\n",
        "fig.update_layout(title='Sales over Time',\n",
        "                   xaxis_title='Date',\n",
        "                   yaxis_title='Total Sales')\n",
        "fig.show()"
      ],
      "metadata": {
        "id": "lqAIGUfyphqO"
      },
      "execution_count": null,
      "outputs": []
    },
    {
      "cell_type": "markdown",
      "source": [
        "##### 1. Why did you pick the specific chart?"
      ],
      "metadata": {
        "id": "t27r6nlMphqO"
      }
    },
    {
      "cell_type": "markdown",
      "source": [
        "W have used a line plot considering the sales and date because it gives the best representation of sales at each date just by clicking the mouse arrow."
      ],
      "metadata": {
        "id": "iv6ro40sphqO"
      }
    },
    {
      "cell_type": "markdown",
      "source": [
        "##### 2. What is/are the insight(s) found from the chart?"
      ],
      "metadata": {
        "id": "r2jJGEOYphqO"
      }
    },
    {
      "cell_type": "markdown",
      "source": [
        "From the above plot, we can see that the highest sale is going on December 16,2013 is 15.62 million while most of sales are below 300K."
      ],
      "metadata": {
        "id": "Po6ZPi4hphqO"
      }
    },
    {
      "cell_type": "markdown",
      "source": [
        "##### 3. Will the gained insights help creating a positive business impact?\n",
        "Are there any insights that lead to negative growth? Justify with specific reason."
      ],
      "metadata": {
        "id": "b0JNsNcRphqO"
      }
    },
    {
      "cell_type": "markdown",
      "source": [
        "Yes, this graph leads to positive business impact because it gives the clear picture to Rossmann managers how the sales are varying on each date, month, and year. So, he can take certain decisions to increase the sales."
      ],
      "metadata": {
        "id": "xvSq8iUTphqO"
      }
    },
    {
      "cell_type": "markdown",
      "source": [
        "#### Chart - 8 Stacked Bar Plot of store type and promo data on the basis of sales (Multivariate)"
      ],
      "metadata": {
        "id": "BZR9WyysphqO"
      }
    },
    {
      "cell_type": "code",
      "source": [
        "# Chart - 8 visualization code\n",
        "# Here we are applying group by operation.\n",
        "df_plot=df.groupby(['Promo','StoreType'])['Sales'].mean().reset_index()\n",
        "x=df_plot.pivot(columns='Promo', index='StoreType')\n",
        "x.plot(kind='bar', stacked=True)"
      ],
      "metadata": {
        "id": "TdPTWpAVphqO"
      },
      "execution_count": null,
      "outputs": []
    },
    {
      "cell_type": "markdown",
      "source": [
        "##### 1. Why did you pick the specific chart?"
      ],
      "metadata": {
        "id": "jj7wYXLtphqO"
      }
    },
    {
      "cell_type": "markdown",
      "source": [
        "Here, we have used stacked bar plot because this plot is very helpful in comparison between two or more quantities."
      ],
      "metadata": {
        "id": "Ob8u6rCTphqO"
      }
    },
    {
      "cell_type": "markdown",
      "source": [
        "##### 2. What is/are the insight(s) found from the chart?"
      ],
      "metadata": {
        "id": "eZrbJ2SmphqO"
      }
    },
    {
      "cell_type": "markdown",
      "source": [
        "We can see that there is very high impact of promo on store type **a, c, and d** becaues the stores running promo have high sales as compared to the stores that are not running promo except store type **b**. Because in **b- type** stores, there is not much increment in sales while running promo as compared to other stores."
      ],
      "metadata": {
        "id": "mZtgC_hjphqO"
      }
    },
    {
      "cell_type": "markdown",
      "source": [
        "##### 3. Will the gained insights help creating a positive business impact?\n",
        "Are there any insights that lead to negative growth? Justify with specific reason."
      ],
      "metadata": {
        "id": "rFu4xreNphqO"
      }
    },
    {
      "cell_type": "markdown",
      "source": [
        "Yes, the gained insights is helpful in creating a positive business imapact because the above plot clearly depicts how the promo is affecting the sales of each store type. So, on the basis of that he can decide which store type must go for promo in future in order to increase the sales."
      ],
      "metadata": {
        "id": "ey_0qi68phqO"
      }
    },
    {
      "cell_type": "markdown",
      "source": [
        "#### Chart - 9 Bar plot showing the average sales of each store type on applying different Assortment strategies.(Multivariate)"
      ],
      "metadata": {
        "id": "YJ55k-q6phqO"
      }
    },
    {
      "cell_type": "code",
      "source": [
        "# Chart - 9 visualization code\n",
        "plt.figure(figsize=(12,6))\n",
        "ax=sns.barplot(x=df['StoreType'], y=df['Sales'],hue=df['Assortment'])\n",
        "plt.show()\n"
      ],
      "metadata": {
        "id": "B2aS4O1ophqO"
      },
      "execution_count": null,
      "outputs": []
    },
    {
      "cell_type": "markdown",
      "source": [
        "##### 1. Why did you pick the specific chart?"
      ],
      "metadata": {
        "id": "gCFgpxoyphqP"
      }
    },
    {
      "cell_type": "markdown",
      "source": [
        "Here, we used a sub bar plot so that we can easily compare the sales for different categorical features (StoreType and Assortment). Here we are compairing the average sales of each store type on the basis of assortment levels or strategies."
      ],
      "metadata": {
        "id": "TVxDimi2phqP"
      }
    },
    {
      "cell_type": "markdown",
      "source": [
        "##### 2. What is/are the insight(s) found from the chart?"
      ],
      "metadata": {
        "id": "OVtJsKN_phqQ"
      }
    },
    {
      "cell_type": "markdown",
      "source": [
        "Here, from the plot we observe that:\n",
        "\n",
        "1. Store types **a, c, and d** follow assortment strategies a and c, whereas store type **b** follows **a, b, and c** strategies.\n",
        "\n",
        "2. The stores following **c** assortment strategy have higher sales compared to other strategies.\n",
        "\n",
        "\n",
        "\n",
        "\n"
      ],
      "metadata": {
        "id": "ngGi97qjphqQ"
      }
    },
    {
      "cell_type": "markdown",
      "source": [
        "##### 3. Will the gained insights help creating a positive business impact?\n",
        "Are there any insights that lead to negative growth? Justify with specific reason."
      ],
      "metadata": {
        "id": "lssrdh5qphqQ"
      }
    },
    {
      "cell_type": "markdown",
      "source": [
        "The gained insights from the plot are beneficial for creating a positive business impact, as it provides the Rossmann store manager with information on which assortment strategy is optimal for each type of store, enabling them to maximize sales."
      ],
      "metadata": {
        "id": "tBpY5ekJphqQ"
      }
    },
    {
      "cell_type": "markdown",
      "source": [
        "#### Chart - 10 Multiple Line plot Showing Monthly Sales over years.(Multivariate)"
      ],
      "metadata": {
        "id": "U2RJ9gkRphqQ"
      }
    },
    {
      "cell_type": "code",
      "source": [
        "# Chart - 10 visualization code\n",
        "sales_data_for_2013= df[df['year']== 2013].groupby('month')['Sales'].sum().reset_index()\n",
        "sales_data_for_2014 = df[df['year']==2014].groupby('month')['Sales'].sum().reset_index()\n",
        "sales_data_for_2015 = df[df['year']==2015].groupby('month')['Sales'].sum().reset_index()\n",
        "plt.plot(sales_data_for_2013.loc[:,'Sales'],label='2013',color='orange')\n",
        "plt.plot(sales_data_for_2014.loc[:,'Sales'],label='2014',color='blue')\n",
        "plt.plot(sales_data_for_2015.loc[:,'Sales'],label='2015',color='green')\n",
        "plt.title('Monthly Sales Over Years')\n",
        "plt.legend()"
      ],
      "metadata": {
        "id": "GM7a4YP4phqQ"
      },
      "execution_count": null,
      "outputs": []
    },
    {
      "cell_type": "markdown",
      "source": [
        "##### 1. Why did you pick the specific chart?"
      ],
      "metadata": {
        "id": "1M8mcRywphqQ"
      }
    },
    {
      "cell_type": "markdown",
      "source": [
        "Multiple line plots were used for each year (2013, 2014, and 2015) to display the changes in two or more variables over the same time span. Because it is best chart to differentiate the sales in all three years."
      ],
      "metadata": {
        "id": "8agQvks0phqQ"
      }
    },
    {
      "cell_type": "markdown",
      "source": [
        "##### 2. What is/are the insight(s) found from the chart?"
      ],
      "metadata": {
        "id": "tgIPom80phqQ"
      }
    },
    {
      "cell_type": "markdown",
      "source": [
        "The following insights are gained from the plot:\n",
        "\n",
        "* Only 6 months of sales data is available for 2015.\n",
        "* In January 2015, sales decreased significantly compared to the same month in previous years, but the total sales were higher than in 2013 and 2014.\n",
        "* In February, sales increased significantly in 2013 and 2015 compared to 2014, with higher total sales in 2015.\n",
        "* The lowest sales were recorded in August and September 2014 compared to sales in 2013.\n",
        "* The lowest sales in 2013 were 170 million in January, while the highest sales were 230 million in December.\n",
        "* The lowest sales in 2014 were 85 million in August and September, and the highest sales were 200 million in December.\n",
        "* Sales increased significantly in December each year.\n",
        "* Sales in 2013 showed a significant and quick recovery **(V-shaped)** after a decline, while sales in 2014 varied like a **Sinusoidal wave**."
      ],
      "metadata": {
        "id": "Qp13pnNzphqQ"
      }
    },
    {
      "cell_type": "markdown",
      "source": [
        "##### 3. Will the gained insights help creating a positive business impact?\n",
        "Are there any insights that lead to negative growth? Justify with specific reason."
      ],
      "metadata": {
        "id": "JMzcOPDDphqR"
      }
    },
    {
      "cell_type": "markdown",
      "source": [
        "Yes, this insights is helpful in the positive business impact because by seeing the above plot the Rossmann store managers get an idea about monthly sales."
      ],
      "metadata": {
        "id": "R4Ka1PC2phqR"
      }
    },
    {
      "cell_type": "markdown",
      "source": [
        "#### Chart - 11 Bar Plot Showing relation between Store Type and state Holiday on the basis of Sales.(Multivariate)"
      ],
      "metadata": {
        "id": "x-EpHcCOp1ci"
      }
    },
    {
      "cell_type": "code",
      "source": [
        "# Chart - 11 visualization code\n",
        "plt.figure(figsize=(12,6))\n",
        "ax=sns.barplot(x=df['StateHoliday'], y=df['Sales'],hue=df['StoreType'])\n",
        "with_percent(ax,df['Sales'])\n",
        "plt.show()\n"
      ],
      "metadata": {
        "id": "mAQTIvtqp1cj"
      },
      "execution_count": null,
      "outputs": []
    },
    {
      "cell_type": "markdown",
      "source": [
        "##### 1. Why did you pick the specific chart?"
      ],
      "metadata": {
        "id": "X_VqEhTip1ck"
      }
    },
    {
      "cell_type": "markdown",
      "source": [
        "Here we have used bar plots because bar plots are very helpful in comparison of various features of the dataset. Here we have compared the sales of each store type on different state holidays."
      ],
      "metadata": {
        "id": "-vsMzt_np1ck"
      }
    },
    {
      "cell_type": "markdown",
      "source": [
        "##### 2. What is/are the insight(s) found from the chart?"
      ],
      "metadata": {
        "id": "8zGJKyg5p1ck"
      }
    },
    {
      "cell_type": "markdown",
      "source": [
        "By observing the above plot, it can be seen that store type **b** achieves the highest sales regardless of whether it is a state holiday or not. This indicates that this type of store never closes during state holidays and has high sales. On the other hand, store types **a, c, and d** have negligible sales during state holidays and around 10% sales when there are no school holidays"
      ],
      "metadata": {
        "id": "ZYdMsrqVp1ck"
      }
    },
    {
      "cell_type": "markdown",
      "source": [
        "##### 3. Will the gained insights help creating a positive business impact?\n",
        "Are there any insights that lead to negative growth? Justify with specific reason."
      ],
      "metadata": {
        "id": "PVzmfK_Ep1ck"
      }
    },
    {
      "cell_type": "markdown",
      "source": [
        "Yes, the gained insights are helpful in creating a positive business impact because the Rossmann store manager receives information on how state holidays are affecting the sales of each store type. Based on that information, they can arrange the drug stock for each store type."
      ],
      "metadata": {
        "id": "druuKYZpp1ck"
      }
    },
    {
      "cell_type": "markdown",
      "source": [
        "#### Chart - 12 Scatter plot showing relation between Customers and Store Type on the basis of Sales.(Multivariate)"
      ],
      "metadata": {
        "id": "n3dbpmDWp1ck"
      }
    },
    {
      "cell_type": "code",
      "source": [
        "# Chart - 12 visualization code\n",
        "sns.set_style('whitegrid')\n",
        "sns.scatterplot(x=df['Sales'],y=df['Customers'],hue=df['StoreType'])"
      ],
      "metadata": {
        "id": "bwevp1tKp1ck"
      },
      "execution_count": null,
      "outputs": []
    },
    {
      "cell_type": "markdown",
      "source": [
        "##### 1. Why did you pick the specific chart?"
      ],
      "metadata": {
        "id": "ylSl6qgtp1ck"
      }
    },
    {
      "cell_type": "markdown",
      "source": [
        "We have used a scatter plot because it displays the relationship and trend in the data. In this case, we have illustrated the relationship between the number of customers and the sales of each store type."
      ],
      "metadata": {
        "id": "m2xqNkiQp1ck"
      }
    },
    {
      "cell_type": "markdown",
      "source": [
        "##### 2. What is/are the insight(s) found from the chart?"
      ],
      "metadata": {
        "id": "ZWILFDl5p1ck"
      }
    },
    {
      "cell_type": "markdown",
      "source": [
        "By examining the above plot, it can be seen that:\n",
        "\n",
        "* In store type **b**, there are the maximum number of customers at very low sales, indicating that customers are buying low-priced drugs more frequently.\n",
        "* In store type **a**, sales and customer numbers increase proportionally.\n",
        "* In store type **c**, there are minimum customers at very high sales, indicating that customers are purchasing more high-priced drugs.\n",
        "* In store type **d**, there are minimum customers at very high sales, indicating that customers are purchasing more high-priced drugs compared to type c store."
      ],
      "metadata": {
        "id": "x-lUsV2mp1ck"
      }
    },
    {
      "cell_type": "markdown",
      "source": [
        "##### 3. Will the gained insights help creating a positive business impact?\n",
        "Are there any insights that lead to negative growth? Justify with specific reason."
      ],
      "metadata": {
        "id": "M7G43BXep1ck"
      }
    },
    {
      "cell_type": "markdown",
      "source": [
        "Yes, the obtained insights are highly beneficial in creating a positive business impact. They assist the Rossmann store manager in comprehending the customer behavior of each store type. This information enables them to make informed business decisions and increase sales."
      ],
      "metadata": {
        "id": "5wwDJXsLp1cl"
      }
    },
    {
      "cell_type": "markdown",
      "source": [
        "#### Chart - 13 # Stacked bar plot showing total sales of each month of each year."
      ],
      "metadata": {
        "id": "Ag9LCva-p1cl"
      }
    },
    {
      "cell_type": "code",
      "source": [
        "# Chart - 13 visualization code\n",
        "# Here we are applying group by operation between year and month and calculating total sales.\n",
        "df_plot=df.groupby(['year','month'])['Sales'].sum().reset_index()\n",
        "# visualization code\n",
        "x=df_plot.pivot(columns='month', index='year')\n",
        "plt.figure(figsize=(10,3))\n",
        "x.plot(kind='bar', stacked=True)\n",
        "plt.xlim(-0.5,3) # setting the x-axis limit\n",
        "plt.title('Total Sales in each year')\n",
        "plt.xlabel(\"Year\")\n",
        "plt.ylabel(\" Total Sales\")"
      ],
      "metadata": {
        "id": "EUfxeq9-p1cl"
      },
      "execution_count": null,
      "outputs": []
    },
    {
      "cell_type": "markdown",
      "source": [
        "##### 1. Why did you pick the specific chart?"
      ],
      "metadata": {
        "id": "E6MkPsBcp1cl"
      }
    },
    {
      "cell_type": "markdown",
      "source": [
        "Here, we have used a stacked bar plot because it is used to break down and compare parts of a whole. Each bar in the chart represents a total and the segments within the bar represent different categories or parts of that total. Different colors are used to distinguish between the different categories in the bar. In this case, we have compared the total sales of each month for each year."
      ],
      "metadata": {
        "id": "V22bRsFWp1cl"
      }
    },
    {
      "cell_type": "markdown",
      "source": [
        "##### 2. What is/are the insight(s) found from the chart?"
      ],
      "metadata": {
        "id": "2cELzS2fp1cl"
      }
    },
    {
      "cell_type": "markdown",
      "source": [
        "By observing the above plot, we can conclude that:\n",
        "\n",
        "* In 2013, the total sales were highest in February, July, and December.\n",
        "* In 2014, the total sales were nearly equal in all months except December, which had the highest sales.\n",
        "* In 2015, sales were recorded for only seven months and were highest in December.\n",
        "\n",
        "When comparing the sales of each year, it can be seen that the sales have decreased over the years."
      ],
      "metadata": {
        "id": "ozQPc2_Ip1cl"
      }
    },
    {
      "cell_type": "markdown",
      "source": [
        "##### 3. Will the gained insights help creating a positive business impact?\n",
        "Are there any insights that lead to negative growth? Justify with specific reason."
      ],
      "metadata": {
        "id": "3MPXvC8up1cl"
      }
    },
    {
      "cell_type": "markdown",
      "source": [
        "Yes, these insights are valuable in creating a positive business impact as they provide the Rossmann store manager with an understanding of the total sales of each month. This allows the manager to determine which months have the highest sales and manage their drug stock accordingly to avoid stock shortages."
      ],
      "metadata": {
        "id": "GL8l1tdLp1cl"
      }
    },
    {
      "cell_type": "markdown",
      "source": [
        "#### Chart - 14 - Correlation Heatmap"
      ],
      "metadata": {
        "id": "NC_X3p0fY2L0"
      }
    },
    {
      "cell_type": "code",
      "source": [
        "# Correlation Heatmap visualization code\n",
        "plt.figure(figsize=(16,10))\n",
        "sns.heatmap(df.corr(),cmap='coolwarm', annot=True)"
      ],
      "metadata": {
        "id": "xyC9zolEZNRQ"
      },
      "execution_count": null,
      "outputs": []
    },
    {
      "cell_type": "markdown",
      "source": [
        "##### 1. Why did you pick the specific chart?"
      ],
      "metadata": {
        "id": "UV0SzAkaZNRQ"
      }
    },
    {
      "cell_type": "markdown",
      "source": [
        "We use a correlation heatmap as it displays the strength of the relationship between two variables. Correlation can be either positive or negative.\n",
        "\n",
        "Positive correlation exists when two variables increase or decrease together.\n",
        "\n",
        "Negative correlation exists when one variable increases as the other decreases.\n",
        "\n",
        "\n",
        "The correlation coefficient ranges from **-1** to **+1**, with **-1** indicating a strong negative correlation, **+1** indicating a strong positive correlation, and **0** indicating no correlation.\n"
      ],
      "metadata": {
        "id": "DVPuT8LYZNRQ"
      }
    },
    {
      "cell_type": "markdown",
      "source": [
        "##### 2. What is/are the insight(s) found from the chart?"
      ],
      "metadata": {
        "id": "YPEH6qLeZNRQ"
      }
    },
    {
      "cell_type": "markdown",
      "source": [
        "The correlation heatmap shows that:\n",
        "\n",
        "1. Sales, Customers, Open, and Promo are positively correlated with each other.\n",
        "2. Sales, Customers, Open, and Promo are negatively correlated with Day of Week.\n",
        "3. Open and Promo are positively correlated with Customers.\n",
        "4. Sales and Customers are positively correlated with Open while Day of Week is negatively correlated with Open.\n",
        "5. Day of week is negatively correlated with Promo.\n",
        "6. Promo2SinceYear and Promo2SinceWeek have a negative correlation of -0.24."
      ],
      "metadata": {
        "id": "bfSqtnDqZNRR"
      }
    },
    {
      "cell_type": "markdown",
      "source": [
        "#### Chart - 15 - Pair Plot"
      ],
      "metadata": {
        "id": "q29F0dvdveiT"
      }
    },
    {
      "cell_type": "code",
      "source": [
        "# Pair Plot visualization code\n",
        "# pairplot\n",
        "sns.pairplot(df)\n",
        "plt.show()"
      ],
      "metadata": {
        "id": "o58-TEIhveiU"
      },
      "execution_count": null,
      "outputs": []
    },
    {
      "cell_type": "markdown",
      "source": [
        "##### 1. Why did you pick the specific chart?"
      ],
      "metadata": {
        "id": "EXh0U9oCveiU"
      }
    },
    {
      "cell_type": "markdown",
      "source": [
        "We are using pair plot to show multiple pairwise bivariate distributions in a dataset. It shows a relation between features using scatter plot. Here, we can see that how one variable is changing corresponding to another.\n",
        "So, we find a correlation between one numerical feature to other numerical feature.\n"
      ],
      "metadata": {
        "id": "eMmPjTByveiU"
      }
    },
    {
      "cell_type": "markdown",
      "source": [
        "##### 2. What is/are the insight(s) found from the chart?"
      ],
      "metadata": {
        "id": "22aHeOlLveiV"
      }
    },
    {
      "cell_type": "markdown",
      "source": [
        "Here in the above plot  we can see that:\n",
        "\n",
        "1. The customers and sales are positively correlated.\n",
        "2. The month and weekofyear are linarily increasing with DayofYear.\n",
        "\n",
        "It is just the pictorial representation of heat map, and here we can easily see the behaviour of each data point."
      ],
      "metadata": {
        "id": "uPQ8RGwHveiV"
      }
    },
    {
      "cell_type": "markdown",
      "source": [
        "## ***5. Hypothesis Testing***"
      ],
      "metadata": {
        "id": "g-ATYxFrGrvw"
      }
    },
    {
      "cell_type": "markdown",
      "source": [
        "### Based on your chart experiments, define three hypothetical statements from the dataset. In the next three questions, perform hypothesis testing to obtain final conclusion about the statements through your code and statistical testing."
      ],
      "metadata": {
        "id": "Yfr_Vlr8HBkt"
      }
    },
    {
      "cell_type": "markdown",
      "source": [
        "1- Our given Sales data is normally distributed.\n",
        "\n",
        "2- Average sale of 2013 is equal to average sales of 2014\n"
      ],
      "metadata": {
        "id": "-7MS06SUHkB-"
      }
    },
    {
      "cell_type": "markdown",
      "source": [
        "### Hypothetical Statement - 1"
      ],
      "metadata": {
        "id": "8yEUt7NnHlrM"
      }
    },
    {
      "cell_type": "markdown",
      "source": [
        "#### 1. State Your research hypothesis as a null hypothesis and alternate hypothesis."
      ],
      "metadata": {
        "id": "tEA2Xm5dHt1r"
      }
    },
    {
      "cell_type": "markdown",
      "source": [
        "Null Hypothesis: **N**o = normally distributed\n",
        "\n",
        "Alternate Hypothesis : **N**a = not normally distributed\n",
        "\n",
        "Test Type: Normality test using Shapiro-Wilk Test\n"
      ],
      "metadata": {
        "id": "HI9ZP0laH0D-"
      }
    },
    {
      "cell_type": "markdown",
      "source": [
        "#### 2. Perform an appropriate statistical test."
      ],
      "metadata": {
        "id": "I79__PHVH19G"
      }
    },
    {
      "cell_type": "code",
      "source": [
        "df_hyp = df.copy()"
      ],
      "metadata": {
        "id": "oZrfquKtyian"
      },
      "execution_count": null,
      "outputs": []
    },
    {
      "cell_type": "code",
      "source": [
        "# Perform Statistical Test to obtain P-Value\n",
        "#Help from Python\n",
        "from scipy.stats import shapiro\n",
        "\n",
        "DataToTest = df_hyp[\"Sales\"].sample(n=50000)\n",
        "\n",
        "stat, p = shapiro(DataToTest)\n",
        "\n",
        "print('stat=%.2f, p=%.30f' % (stat, p))\n",
        "\n",
        "if p > 0.05:\n",
        "    print('Normal distribution')\n",
        "else:\n",
        "    print('Not a normal distribution')"
      ],
      "metadata": {
        "id": "PteJ11ioEeqY"
      },
      "execution_count": null,
      "outputs": []
    },
    {
      "cell_type": "markdown",
      "source": [
        "##### Which statistical test have you done to obtain P-Value?"
      ],
      "metadata": {
        "id": "Ou-I18pAyIpj"
      }
    },
    {
      "cell_type": "markdown",
      "source": [
        "Normality test using Shapiro-Wilk Test : tests If data is normally distributed"
      ],
      "metadata": {
        "id": "s2U0kk00ygSB"
      }
    },
    {
      "cell_type": "markdown",
      "source": [
        "##### Why did you choose the specific statistical test?"
      ],
      "metadata": {
        "id": "fF3858GYyt-u"
      }
    },
    {
      "cell_type": "markdown",
      "source": [
        "The Shapiro–Wilk test is a test of normality in frequentist statistics\n",
        " value of the Shapiro-Wilk Test is greater than 0.05, the data is normal. If it is below 0.05, the data significantly deviate from a normal distribution.\n",
        "\n",
        " he Shapiro-Wilks test for normality is one of three general normality tests designed to detect all departures from normality\n",
        "\n",
        "If you need to use skewness and kurtosis values to determine normality, rather the Shapiro-Wilk test, you will find these in our enhanced testing for normality guide."
      ],
      "metadata": {
        "id": "HO4K0gP5y3B4"
      }
    },
    {
      "cell_type": "markdown",
      "source": [
        "### Hypothetical Statement - 2"
      ],
      "metadata": {
        "id": "4_0_7-oCpUZd"
      }
    },
    {
      "cell_type": "markdown",
      "source": [
        "#### 1. State Your research hypothesis as a null hypothesis and alternate hypothesis."
      ],
      "metadata": {
        "id": "hwyV_J3ipUZe"
      }
    },
    {
      "cell_type": "markdown",
      "source": [
        "Null Hypothesis: **N**o = 5658 -mean sale of both year 2013 & 2014 is equal\n",
        "\n",
        "Alternate Hypothesis : **N**a > 5658 -mean sale of 2014 is greater than last year\n",
        "\n",
        "Test Type: Independent Sample T-test\n"
      ],
      "metadata": {
        "id": "FnpLGJ-4pUZe"
      }
    },
    {
      "cell_type": "markdown",
      "source": [
        "#### 2. Perform an appropriate statistical test."
      ],
      "metadata": {
        "id": "3yB-zSqbpUZe"
      }
    },
    {
      "cell_type": "code",
      "source": [
        "#lets extract sale of each year\n",
        "yearly_sale = df_hyp.groupby(['year'])['Sales'].mean()\n",
        "yearly_sale"
      ],
      "metadata": {
        "id": "sWxdNTXNpUZe"
      },
      "execution_count": null,
      "outputs": []
    },
    {
      "cell_type": "code",
      "source": [
        "df3 = df_hyp[df_hyp['year']==2014].sample(n=50000)\n",
        "df4 = df_hyp[df_hyp['year']==2013].sample(n=50000)\n",
        "df31 = df3[\"Sales\"].sample(n=50000)\n",
        "df41 = df4[\"Sales\"].sample(n=50000)"
      ],
      "metadata": {
        "id": "hXmH3j2avHmj"
      },
      "execution_count": null,
      "outputs": []
    },
    {
      "cell_type": "code",
      "source": [
        "#assumption- mean sale of both sample is equal\n",
        "#Ho = avg sale of bi=oth equal\n",
        "# Ha = sale will be greater than last year\n",
        "stat, p = scipy.stats.ttest_ind(df41,df31)\n",
        "print('stat=%.2f, p=%.30f' % (stat, p))\n",
        "if p > 0.05:\n",
        "  print(\"we failled to reject null hypothesis\")\n",
        "else:\n",
        "  print(\"we reject the null hypothesis\")"
      ],
      "metadata": {
        "id": "oX6PrjFBvKne"
      },
      "execution_count": null,
      "outputs": []
    },
    {
      "cell_type": "markdown",
      "source": [
        "##### Which statistical test have you done to obtain P-Value?"
      ],
      "metadata": {
        "id": "dEUvejAfpUZe"
      }
    },
    {
      "cell_type": "markdown",
      "source": [
        "we used Independent Sample T-test to obtained P-value  this test used to compare means of two sample. we imported ttest library from scipy to perform this test.\n",
        "\n",
        "here p value is less than 0.05 so we rejected the null hypothesis so our assumptionj becomes true that average sale of 2014 is greater than last year"
      ],
      "metadata": {
        "id": "oLDrPz7HpUZf"
      }
    },
    {
      "cell_type": "markdown",
      "source": [
        "##### Why did you choose the specific statistical test?"
      ],
      "metadata": {
        "id": "Fd15vwWVpUZf"
      }
    },
    {
      "cell_type": "markdown",
      "source": [
        "independent sample t test used to compare mean value of two sample whether there is statistical evidence that the associated population means are significantly different or same.\n",
        "here we have sales of two years we know the mean of sales of both year so it is very easy to comare sales of both year thats why it becomes very easy to use independent sample t test"
      ],
      "metadata": {
        "id": "4xOGYyiBpUZf"
      }
    },
    {
      "cell_type": "markdown",
      "source": [
        "## ***6. Feature Engineering & Data Pre-processing***"
      ],
      "metadata": {
        "id": "yLjJCtPM0KBk"
      }
    },
    {
      "cell_type": "markdown",
      "source": [
        "### 1. Handling Missing Values"
      ],
      "metadata": {
        "id": "xiyOF9F70UgQ"
      }
    },
    {
      "cell_type": "code",
      "source": [
        "# Find the null values present in the dataset.\n",
        "df.isnull().sum()"
      ],
      "metadata": {
        "id": "iRsAHk1K0fpS"
      },
      "execution_count": null,
      "outputs": []
    },
    {
      "cell_type": "markdown",
      "source": [
        "Hence, the 'CompetitionDistance' is a numerical column so, we check for the skewness of the data before treating null values.\n"
      ],
      "metadata": {
        "id": "tuY_um5Svq-B"
      }
    },
    {
      "cell_type": "code",
      "source": [
        "# sns.displot(store_data['CompetitionDistance']) # Check the distribution of 'CompetitionDistance' or its skewness\n",
        "sns.distplot(df['CompetitionDistance'])"
      ],
      "metadata": {
        "id": "hoDj0Wc8vuJ9"
      },
      "execution_count": null,
      "outputs": []
    },
    {
      "cell_type": "code",
      "source": [
        "df['CompetitionDistance'].skew()"
      ],
      "metadata": {
        "id": "YcGDwD5xvzd9"
      },
      "execution_count": null,
      "outputs": []
    },
    {
      "cell_type": "code",
      "source": [
        "# Handling Missing Values & Missing Value Imputation\n",
        "df['CompetitionDistance'].fillna(df['CompetitionDistance'].median(),inplace=True) # Replace the null value with median because it is skewed"
      ],
      "metadata": {
        "id": "hE2MWAOMv2_h"
      },
      "execution_count": null,
      "outputs": []
    },
    {
      "cell_type": "markdown",
      "source": [
        "Now, check the distrbution of \"CompetitionOpenSinceMonth\" and \"CompetitionOpenSinceYear\"."
      ],
      "metadata": {
        "id": "ovWqpD_Jv6dr"
      }
    },
    {
      "cell_type": "code",
      "source": [
        "sns.distplot(df['CompetitionOpenSinceMonth'],kde=False) #check the distribution of 'CompetitionOpenSinceMonth'\n",
        "sns.displot(df['CompetitionOpenSinceYear'],kde=True) #check the distribution of 'CompetitionOpenSinceYear'"
      ],
      "metadata": {
        "id": "rrZvqzY0v-Gb"
      },
      "execution_count": null,
      "outputs": []
    },
    {
      "cell_type": "code",
      "source": [
        "# Hence 'CompetitionOpenSinceYear' and 'CompetitionOpenSinceMonth' are categorical data so, replace the null values with mode\n",
        "df['CompetitionOpenSinceMonth'].fillna(df['CompetitionOpenSinceMonth'].mode()[0], inplace = True)\n",
        "df['CompetitionOpenSinceYear'].fillna(df['CompetitionOpenSinceYear'].mode()[0], inplace = True)"
      ],
      "metadata": {
        "id": "X0jZA5VdwEGk"
      },
      "execution_count": null,
      "outputs": []
    },
    {
      "cell_type": "code",
      "source": [
        "df.info()"
      ],
      "metadata": {
        "id": "nUFJOalxwG2c"
      },
      "execution_count": null,
      "outputs": []
    },
    {
      "cell_type": "code",
      "source": [
        "#Here, Promo2SinceWeek, Promo2SinceYear, PromoInterval are null so, replace nan value with 0\n",
        "df['Promo2SinceWeek'].fillna(value=0,inplace=True)\n",
        "df['Promo2SinceYear'].fillna(value=0,inplace=True)\n",
        "df['PromoInterval'].fillna(value=0,inplace=True)"
      ],
      "metadata": {
        "id": "x1_tszjBwKYA"
      },
      "execution_count": null,
      "outputs": []
    },
    {
      "cell_type": "code",
      "source": [
        "df.info()"
      ],
      "metadata": {
        "id": "LOch1K7SwNj0"
      },
      "execution_count": null,
      "outputs": []
    },
    {
      "cell_type": "markdown",
      "source": [
        "#### What all missing value imputation techniques have you used and why did you use those techniques?"
      ],
      "metadata": {
        "id": "7wuGOrhz0itI"
      }
    },
    {
      "cell_type": "markdown",
      "source": [
        "'CompetitionDistance' shows an positive or right skewed data so, we replace the null values with the median because the median is not affected by the outliers.\n",
        "\n",
        "'CompetitionOpenSinceMonth' and 'CompetitionOpenSinceYear' both are categorical features so, we replaced the null values with the mode.\n",
        "\n",
        "In 'Promo2SinceWeek', 'Promo2SinceYear', and 'PromoInterval' missing values represent that there are no promo2 (promo in consecutive month) in the particular date. So, we replace the null value with zero."
      ],
      "metadata": {
        "id": "1ixusLtI0pqI"
      }
    },
    {
      "cell_type": "markdown",
      "source": [
        "### 2. Handling Outliers"
      ],
      "metadata": {
        "id": "id1riN9m0vUs"
      }
    },
    {
      "cell_type": "code",
      "source": [
        "# Handling Outliers & Outlier treatments\n",
        "df['Sales'].describe()"
      ],
      "metadata": {
        "id": "M6w2CzZf04JK"
      },
      "execution_count": null,
      "outputs": []
    },
    {
      "cell_type": "code",
      "source": [
        "#code to seperate outliers\n",
        "mean = np.mean(df['Sales']) #mean\n",
        "std = np.std(df['Sales'])   #standard deviation\n",
        "#More than 3 standard deviation is an outlier\n",
        "threshold = 3\n",
        "#code to identify them\n",
        "outliers = []\n",
        "for value in df['Sales']:\n",
        "    z_score = (value-mean)/std\n",
        "    if z_score > threshold:\n",
        "        outliers.append(value)\n",
        "#total no of outliers\n",
        "print(f'Total number of Outliers present in the Sales column are {len(outliers)}.')\n",
        "#plotting the outlier distribution\n",
        "sns.distplot(x=outliers).set(title='Outliers Distribution')"
      ],
      "metadata": {
        "id": "oZWQxzBWGMB0"
      },
      "execution_count": null,
      "outputs": []
    },
    {
      "cell_type": "code",
      "source": [
        "max(outliers)"
      ],
      "metadata": {
        "id": "krCkdy9VGO4Z"
      },
      "execution_count": null,
      "outputs": []
    },
    {
      "cell_type": "code",
      "source": [
        "min(outliers)"
      ],
      "metadata": {
        "id": "GnsPUerOGP8m"
      },
      "execution_count": null,
      "outputs": []
    },
    {
      "cell_type": "code",
      "source": [
        "#percentage of sales greater than 10.2\n",
        "sales_outliers = df.loc[df['Sales']> min(outliers)]\n",
        "percentage_of_outliers = (len(sales_outliers)/len(df))*100\n",
        "#print\n",
        "print(f'The percentage of observations of sales greater than {min(outliers)} are {percentage_of_outliers}')"
      ],
      "metadata": {
        "id": "aVoeLujMGSvS"
      },
      "execution_count": null,
      "outputs": []
    },
    {
      "cell_type": "code",
      "source": [
        "df.loc[df['Sales']> min(outliers)]"
      ],
      "metadata": {
        "id": "3-kY_-ELGXqV"
      },
      "execution_count": null,
      "outputs": []
    },
    {
      "cell_type": "code",
      "source": [
        "#exploring the reasons behind this behaviour\n",
        "sales_outliers.reset_index(drop=True)"
      ],
      "metadata": {
        "id": "Z35cg3iYwqgd"
      },
      "execution_count": null,
      "outputs": []
    },
    {
      "cell_type": "code",
      "source": [
        "#lets see the sales when there is promo\n",
        "\n",
        "sales_outliers[sales_outliers['Promo']==1]"
      ],
      "metadata": {
        "id": "d28Jpvy_wup7"
      },
      "execution_count": null,
      "outputs": []
    },
    {
      "cell_type": "code",
      "source": [
        "df.shape"
      ],
      "metadata": {
        "id": "HwVyinCVwx2O"
      },
      "execution_count": null,
      "outputs": []
    },
    {
      "cell_type": "markdown",
      "source": [
        "##### What all outlier treatment techniques have you used and why did you use those techniques?"
      ],
      "metadata": {
        "id": "578E2V7j08f6"
      }
    },
    {
      "cell_type": "markdown",
      "source": [
        "There are only 0.95% (approx) outliers present in the data.\n",
        "\n",
        "Here, the number of sales outliers is 9728, in which 6995 observations is present in the dataframe when the store is running a promo. So, it will not be a good idea to treat outliers.\n",
        "\n",
        "So, we will not drop any observation for further pre-processing."
      ],
      "metadata": {
        "id": "uGZz5OrT1HH-"
      }
    },
    {
      "cell_type": "markdown",
      "source": [
        "### 3. Categorical Encoding"
      ],
      "metadata": {
        "id": "89xtkJwZ18nB"
      }
    },
    {
      "cell_type": "code",
      "source": [
        "#convert the object type of 'StateHoliday' data into numerical as follows\n",
        "df['StateHoliday'].replace({'a':1, 'b':1,'c':1}, inplace=True)"
      ],
      "metadata": {
        "id": "21JmIYMG2hEo"
      },
      "execution_count": null,
      "outputs": []
    },
    {
      "cell_type": "code",
      "source": [
        "# Defining a function to check whether the sale month is present in the promointerval or not. if yes return 1 else 0\n",
        "def promo2running(df):\n",
        "  month_dict = {1:'Jan', 2:'Feb', 3:'Mar', 4:'Apr', 5:'May', 6:'Jun', 7:'Jul', 8:'Aug', 9:'Sept', 10:'Oct', 11:'Nov', 12:'Dec'}\n",
        "  try:\n",
        "    months = df['PromoInterval'].split(',') # ['Jun', 'JULY',\"AUG\"]\n",
        "\n",
        "    if month_dict[df['month']] in months: # df['Month'] ==7\n",
        "      return 1\n",
        "    else:\n",
        "      return 0\n",
        "  except Exception:\n",
        "    return 0"
      ],
      "metadata": {
        "id": "ljERvvgCw9t9"
      },
      "execution_count": null,
      "outputs": []
    },
    {
      "cell_type": "code",
      "source": [
        "df['Promo2running'] = df.apply(promo2running, axis=1) # create a feature called Promo2running which defines whether the promointerval is present in the sale moth"
      ],
      "metadata": {
        "id": "86P6b1OoxB8z"
      },
      "execution_count": null,
      "outputs": []
    },
    {
      "cell_type": "code",
      "source": [
        "df.Promo2running.value_counts()"
      ],
      "metadata": {
        "id": "6Kd2yl1GxKGp"
      },
      "execution_count": null,
      "outputs": []
    },
    {
      "cell_type": "code",
      "source": [
        "df.drop(['PromoInterval'],axis=1,inplace=True)"
      ],
      "metadata": {
        "id": "IQc0v1yLxM4j"
      },
      "execution_count": null,
      "outputs": []
    },
    {
      "cell_type": "code",
      "source": [
        "df=pd.get_dummies(columns = ['StoreType' , 'Assortment'] ,data = df ,drop_first = True)"
      ],
      "metadata": {
        "id": "6jyLSImFxP1T"
      },
      "execution_count": null,
      "outputs": []
    },
    {
      "cell_type": "code",
      "source": [
        "df.head(1)"
      ],
      "metadata": {
        "id": "n8w4HTNIxSge"
      },
      "execution_count": null,
      "outputs": []
    },
    {
      "cell_type": "markdown",
      "source": [
        "#### What all categorical encoding techniques have you used & why did you use those techniques?"
      ],
      "metadata": {
        "id": "67NQN5KX2AMe"
      }
    },
    {
      "cell_type": "markdown",
      "source": [
        "In 'StateHoliday' Column, there are different types of hildays so, we replaced all holidays with 1.\n",
        "\n",
        "There are three categorical column present in the dataframe (i.e 'StoreType' , 'Assortment', and 'PromoInterval'). Now, we created a column called 'promo2running' which is 1 if sale month is present in the promointerval month else 0.\n",
        "\n",
        "We changed two categorical columns (i.e 'StoreType' and 'Assortment') into numerical ones by creating the dummy variables.\n"
      ],
      "metadata": {
        "id": "UDaue5h32n_G"
      }
    },
    {
      "cell_type": "markdown",
      "source": [
        "### 4. Textual Data Preprocessing\n",
        "(It's mandatory for textual dataset i.e., NLP, Sentiment Analysis, Text Clustering etc.)\n",
        "##### We don't have textual data in any of the feature so it is not needed for our project"
      ],
      "metadata": {
        "id": "Iwf50b-R2tYG"
      }
    },
    {
      "cell_type": "markdown",
      "source": [
        "#### 1. Expand Contraction"
      ],
      "metadata": {
        "id": "GMQiZwjn3iu7"
      }
    },
    {
      "cell_type": "code",
      "source": [
        "# Expand Contraction\n",
        "## We don't have textual data in any of the feature so it is not needed for our project"
      ],
      "metadata": {
        "id": "PTouz10C3oNN"
      },
      "execution_count": null,
      "outputs": []
    },
    {
      "cell_type": "markdown",
      "source": [
        "#### 2. Lower Casing"
      ],
      "metadata": {
        "id": "WVIkgGqN3qsr"
      }
    },
    {
      "cell_type": "code",
      "source": [
        "# Lower Casing\n",
        "## We don't have textual data in any of the feature so it is not needed for our project"
      ],
      "metadata": {
        "id": "88JnJ1jN3w7j"
      },
      "execution_count": null,
      "outputs": []
    },
    {
      "cell_type": "markdown",
      "source": [
        "#### 3. Removing Punctuations"
      ],
      "metadata": {
        "id": "XkPnILGE3zoT"
      }
    },
    {
      "cell_type": "code",
      "source": [
        "# Remove Punctuations\n",
        "## We don't have textual data in any of the feature so it is not needed for our project"
      ],
      "metadata": {
        "id": "vqbBqNaA33c0"
      },
      "execution_count": null,
      "outputs": []
    },
    {
      "cell_type": "markdown",
      "source": [
        "#### 4. Removing URLs & Removing words and digits contain digits."
      ],
      "metadata": {
        "id": "Hlsf0x5436Go"
      }
    },
    {
      "cell_type": "code",
      "source": [
        "# Remove URLs & Remove words and digits contain digits\n",
        "## We don't have textual data in any of the feature so it is not needed for our project"
      ],
      "metadata": {
        "id": "2sxKgKxu4Ip3"
      },
      "execution_count": null,
      "outputs": []
    },
    {
      "cell_type": "markdown",
      "source": [
        "#### 5. Removing Stopwords & Removing White spaces"
      ],
      "metadata": {
        "id": "mT9DMSJo4nBL"
      }
    },
    {
      "cell_type": "code",
      "source": [
        "# Remove Stopwords\n",
        "## We don't have textual data in any of the feature so it is not needed for our project"
      ],
      "metadata": {
        "id": "T2LSJh154s8W"
      },
      "execution_count": null,
      "outputs": []
    },
    {
      "cell_type": "code",
      "source": [
        "# Remove White spaces\n",
        "## We don't have textual data in any of the feature so it is not needed for our project"
      ],
      "metadata": {
        "id": "EgLJGffy4vm0"
      },
      "execution_count": null,
      "outputs": []
    },
    {
      "cell_type": "markdown",
      "source": [
        "#### 6. Rephrase Text"
      ],
      "metadata": {
        "id": "c49ITxTc407N"
      }
    },
    {
      "cell_type": "code",
      "source": [
        "# Rephrase Text\n",
        "## We don't have textual data in any of the feature so it is not needed for our project"
      ],
      "metadata": {
        "id": "foqY80Qu48N2"
      },
      "execution_count": null,
      "outputs": []
    },
    {
      "cell_type": "markdown",
      "source": [
        "#### 7. Tokenization"
      ],
      "metadata": {
        "id": "OeJFEK0N496M"
      }
    },
    {
      "cell_type": "code",
      "source": [
        "# Tokenization\n",
        "## We don't have textual data in any of the feature so it is not needed for our project"
      ],
      "metadata": {
        "id": "ijx1rUOS5CUU"
      },
      "execution_count": null,
      "outputs": []
    },
    {
      "cell_type": "markdown",
      "source": [
        "#### 8. Text Normalization"
      ],
      "metadata": {
        "id": "9ExmJH0g5HBk"
      }
    },
    {
      "cell_type": "code",
      "source": [
        "# Normalizing Text (i.e., Stemming, Lemmatization etc.)\n",
        "## We don't have textual data in any of the feature so it is not needed for our project"
      ],
      "metadata": {
        "id": "AIJ1a-Zc5PY8"
      },
      "execution_count": null,
      "outputs": []
    },
    {
      "cell_type": "markdown",
      "source": [
        "##### Which text normalization technique have you used and why?"
      ],
      "metadata": {
        "id": "cJNqERVU536h"
      }
    },
    {
      "cell_type": "markdown",
      "source": [
        "Answer Here."
      ],
      "metadata": {
        "id": "Z9jKVxE06BC1"
      }
    },
    {
      "cell_type": "markdown",
      "source": [
        "#### 9. Part of speech tagging"
      ],
      "metadata": {
        "id": "k5UmGsbsOxih"
      }
    },
    {
      "cell_type": "code",
      "source": [
        "# POS Taging\n",
        "## We don't have textual data in any of the feature so it is not needed for our project"
      ],
      "metadata": {
        "id": "btT3ZJBAO6Ik"
      },
      "execution_count": null,
      "outputs": []
    },
    {
      "cell_type": "markdown",
      "source": [
        "#### 10. Text Vectorization"
      ],
      "metadata": {
        "id": "T0VqWOYE6DLQ"
      }
    },
    {
      "cell_type": "code",
      "source": [
        "# Vectorizing Text\n",
        "## We don't have textual data in any of the feature so it is not needed for our project"
      ],
      "metadata": {
        "id": "yBRtdhth6JDE"
      },
      "execution_count": null,
      "outputs": []
    },
    {
      "cell_type": "markdown",
      "source": [
        "##### Which text vectorization technique have you used and why?"
      ],
      "metadata": {
        "id": "qBMux9mC6MCf"
      }
    },
    {
      "cell_type": "markdown",
      "source": [
        "Answer Here."
      ],
      "metadata": {
        "id": "su2EnbCh6UKQ"
      }
    },
    {
      "cell_type": "markdown",
      "source": [
        "### 4. Feature Manipulation & Selection"
      ],
      "metadata": {
        "id": "-oLEiFgy-5Pf"
      }
    },
    {
      "cell_type": "markdown",
      "source": [
        "#### 1. Feature Manipulation"
      ],
      "metadata": {
        "id": "C74aWNz2AliB"
      }
    },
    {
      "cell_type": "code",
      "source": [
        "# Manipulate Features to minimize feature correlation and create new features\n",
        "\n",
        "\n",
        "\n",
        "#We need to combine 'Promo2SinceYear' and 'Promo2SinceWeek' into a single column\n",
        "df['Promo2Open'] = (df['year'] - df['Promo2SinceYear'])*12 + (df['WeekOfYear'] - df['Promo2SinceWeek'])*0.230137  # Here, 1 week = 0.230137 month\n",
        "\n",
        "#correcting the neg values\n",
        "df['Promo2Open'] = df['Promo2Open'].apply(lambda x:0 if x < 0 else x)\n",
        "#Dropping unecessary columns\n",
        "df.drop(['Promo2SinceYear','Promo2SinceWeek'],axis=1,inplace=True)"
      ],
      "metadata": {
        "id": "h1qC4yhBApWC"
      },
      "execution_count": null,
      "outputs": []
    },
    {
      "cell_type": "markdown",
      "source": [
        "Here, we converted two columns into a single one because 'Promo2SinceYear' and 'Promo2SinceWeek' represents that since when the promo2 is running.\n",
        "We created a column 'Promo2Open' which defines the number of month since the promo2 is running.\n",
        "\n",
        "We dropped 'Promo2SinceYear' and 'Promo2SinceWeek' columns from the dataset becaused we created 'Promo2Open' by using them.\n"
      ],
      "metadata": {
        "id": "j0vC6uguxlFn"
      }
    },
    {
      "cell_type": "code",
      "source": [
        "# Check for the data where 'Promo2Open' is less than zero.\n",
        "df[df['Promo2Open']<0]"
      ],
      "metadata": {
        "id": "w5xbLGWsxo1h"
      },
      "execution_count": null,
      "outputs": []
    },
    {
      "cell_type": "code",
      "source": [
        "#combining competition open since month and year into total months\n",
        "df['CompetitionOpen'] = (df['year'] - df['CompetitionOpenSinceYear'])*12 + (df['month'] - df['CompetitionOpenSinceMonth'])\n",
        "#correcting the neg values\n",
        "df['CompetitionOpen'] = df['CompetitionOpen'].apply(lambda x:0 if x < 0 else x)\n",
        "#dropping both the columns\n",
        "df.drop(['CompetitionOpenSinceMonth','CompetitionOpenSinceYear'], axis=1,inplace=True)"
      ],
      "metadata": {
        "id": "97Mv0C-Uxr_2"
      },
      "execution_count": null,
      "outputs": []
    },
    {
      "cell_type": "markdown",
      "source": [
        "Here, we are combining 'CompetitionOpenSinceYear' and 'CompetitionOpenSinceMonth' into 'CompetitionOpen', and 'CompetitionOpen' depicts since how many months the competition store is running.\n",
        "We did the same thing as we did above.\n",
        "After combining both columns 'CompetitionOpenSinceYear' and 'CompetitionOpenSinceMonth', we dropped these columns from dataset."
      ],
      "metadata": {
        "id": "i3U2EErSxvfU"
      }
    },
    {
      "cell_type": "code",
      "source": [
        "df[df['CompetitionOpen']<0]"
      ],
      "metadata": {
        "id": "oZKGlHiXxy-k"
      },
      "execution_count": null,
      "outputs": []
    },
    {
      "cell_type": "code",
      "source": [
        "df.columns"
      ],
      "metadata": {
        "id": "PnvGXM8-x2Fs"
      },
      "execution_count": null,
      "outputs": []
    },
    {
      "cell_type": "code",
      "source": [
        "df.info()"
      ],
      "metadata": {
        "id": "Sh9vwCCHx45R"
      },
      "execution_count": null,
      "outputs": []
    },
    {
      "cell_type": "code",
      "source": [
        "df.head(2)"
      ],
      "metadata": {
        "id": "GHbwjd5Zx8ac"
      },
      "execution_count": null,
      "outputs": []
    },
    {
      "cell_type": "markdown",
      "source": [
        "#### 2. Feature Selection"
      ],
      "metadata": {
        "id": "2DejudWSA-a0"
      }
    },
    {
      "cell_type": "code",
      "source": [
        "df2=df.copy()"
      ],
      "metadata": {
        "id": "YLhe8UmaBCEE"
      },
      "execution_count": null,
      "outputs": []
    },
    {
      "cell_type": "markdown",
      "source": [
        "Here, we coopied the data into a different variable so that if any mistake happen during the execution of code we need not to run all the cells from the beginning."
      ],
      "metadata": {
        "id": "xRPVGHMmyDNr"
      }
    },
    {
      "cell_type": "code",
      "source": [
        "df2.Sales.values"
      ],
      "metadata": {
        "id": "DxP1G92jG5FY"
      },
      "execution_count": null,
      "outputs": []
    },
    {
      "cell_type": "code",
      "source": [
        "df2.shape"
      ],
      "metadata": {
        "id": "nOAq9vxKHA0U"
      },
      "execution_count": null,
      "outputs": []
    },
    {
      "cell_type": "code",
      "source": [
        "df2=df[df['Open']==1] # Remove the rows when store is closed"
      ],
      "metadata": {
        "id": "yLx_Lc4syPPR"
      },
      "execution_count": null,
      "outputs": []
    },
    {
      "cell_type": "code",
      "source": [
        "df2.shape"
      ],
      "metadata": {
        "id": "AyIzyevCySKQ"
      },
      "execution_count": null,
      "outputs": []
    },
    {
      "cell_type": "code",
      "source": [
        "sns.displot(x=df2.Sales)"
      ],
      "metadata": {
        "id": "76XWEgwLyU8L"
      },
      "execution_count": null,
      "outputs": []
    },
    {
      "cell_type": "code",
      "source": [
        "## transformation\n",
        "\n",
        "df2['Sales'] = np.sqrt(df2['Sales'])"
      ],
      "metadata": {
        "id": "IY20tI5ByYkO"
      },
      "execution_count": null,
      "outputs": []
    },
    {
      "cell_type": "code",
      "source": [
        "plt.figure(figsize=(15,10))\n",
        "\n",
        "sns.distplot(x=df2['Sales'])"
      ],
      "metadata": {
        "id": "Wlz0e7uQybT0"
      },
      "execution_count": null,
      "outputs": []
    },
    {
      "cell_type": "code",
      "source": [
        "df2.tail()"
      ],
      "metadata": {
        "id": "NW0DSVz3yfln"
      },
      "execution_count": null,
      "outputs": []
    },
    {
      "cell_type": "code",
      "source": [
        "df2.Sales.min()"
      ],
      "metadata": {
        "id": "T7Aacb8Ayi4i"
      },
      "execution_count": null,
      "outputs": []
    },
    {
      "cell_type": "code",
      "source": [
        "df2[df2['Sales']==0]"
      ],
      "metadata": {
        "id": "-tQgx4IfymDd"
      },
      "execution_count": null,
      "outputs": []
    },
    {
      "cell_type": "code",
      "source": [
        "# Select your features wisely to avoid overfitting"
      ],
      "metadata": {
        "id": "Ng-DE_fGyraY"
      },
      "execution_count": null,
      "outputs": []
    },
    {
      "cell_type": "code",
      "source": [
        "#Multicollinearity\n",
        "from statsmodels.stats.outliers_influence import variance_inflation_factor\n",
        "\n",
        "def calc_vif(df):\n",
        "    # Removing non-finite values\n",
        "    df = df.dropna()\n",
        "    # Removing non-numeric columns\n",
        "    df = df.select_dtypes(include=['float64', 'int64'])\n",
        "    # Creating a dataframe to store the VIF values\n",
        "    vif = pd.DataFrame()\n",
        "    vif[\"variables\"] = df.columns\n",
        "    vif[\"VIF\"] = [variance_inflation_factor(df.values, i) for i in range(df.shape[1])]\n",
        "    return vif"
      ],
      "metadata": {
        "id": "VZRM5ZvGyujz"
      },
      "execution_count": null,
      "outputs": []
    },
    {
      "cell_type": "code",
      "source": [
        "vif_df = calc_vif(df2)\n",
        "print(vif_df)"
      ],
      "metadata": {
        "id": "VjqEHg5PyxbB"
      },
      "execution_count": null,
      "outputs": []
    },
    {
      "cell_type": "code",
      "source": [
        "columns_to_drop = ['Store', 'year', 'WeekOfYear', 'DayOfYear','Open','Promo2running']\n",
        "new_df = df2.drop(columns = columns_to_drop, axis =1)\n"
      ],
      "metadata": {
        "id": "s4I7Jrs2y7QF"
      },
      "execution_count": null,
      "outputs": []
    },
    {
      "cell_type": "code",
      "source": [
        "new_df.head()"
      ],
      "metadata": {
        "id": "2AmsPQpTy_ZX"
      },
      "execution_count": null,
      "outputs": []
    },
    {
      "cell_type": "code",
      "source": [
        "new_df.shape"
      ],
      "metadata": {
        "id": "LAeBFi08zCsa"
      },
      "execution_count": null,
      "outputs": []
    },
    {
      "cell_type": "code",
      "source": [
        "new_df.Sales.min()"
      ],
      "metadata": {
        "id": "tGuc8uc2zFgA"
      },
      "execution_count": null,
      "outputs": []
    },
    {
      "cell_type": "code",
      "source": [
        "new_df.Sales.max()"
      ],
      "metadata": {
        "id": "L11yG_ePzISB"
      },
      "execution_count": null,
      "outputs": []
    },
    {
      "cell_type": "code",
      "source": [
        "new_df.columns"
      ],
      "metadata": {
        "id": "Cu3cNtcjzK71"
      },
      "execution_count": null,
      "outputs": []
    },
    {
      "cell_type": "code",
      "source": [
        "#correlation heatmap\n",
        "plt.figure(figsize=(16,10))\n",
        "sns.heatmap(new_df.corr(), cmap=\"coolwarm\", annot=True)"
      ],
      "metadata": {
        "id": "EzJZbDiJzN8_"
      },
      "execution_count": null,
      "outputs": []
    },
    {
      "cell_type": "markdown",
      "source": [
        "##### What all feature selection methods have you used  and why?"
      ],
      "metadata": {
        "id": "pEMng2IbBLp7"
      }
    },
    {
      "cell_type": "markdown",
      "source": [
        "Here, we removed four columns (i.e ['Store', 'year', 'WeekOfYear', 'DayOfYear', 'Date']) from our dataset which is irrelavant for our models. Because we will not give these input variables to ML model for sales prediction.\n",
        "\n",
        "We converted two columns into a single one because 'Promo2SinceYear' and 'Promo2SinceWeek' represents that since when the promo2 is running. We created a column 'Promo2Open' which defines the number of month since the promo2 is running.\n",
        "\n",
        "We dropped 'Promo2SinceYear' and 'Promo2SinceWeek' columns from the dataset becaused we created 'Promo2Open' by using them.\n",
        "\n",
        "We are combined 'CompetitionOpenSinceYear' and 'CompetitionOpenSinceMonth' into 'CompetitionOpen', and 'CompetitionOpen' depicts since how many months the competition store is running. We did the same thing as we did above. After combining both columns 'CompetitionOpenSinceYear' and 'CompetitionOpenSinceMonth', we dropped these columns from dataset."
      ],
      "metadata": {
        "id": "rb2Lh6Z8BgGs"
      }
    },
    {
      "cell_type": "markdown",
      "source": [
        "##### Which all features you found important and why?"
      ],
      "metadata": {
        "id": "rAdphbQ9Bhjc"
      }
    },
    {
      "cell_type": "markdown",
      "source": [
        "we removed four columns (i.e ['Store', 'year', 'WeekOfYear', 'DayOfYear', 'Date']) from our dataset which is irrelavant for our models. Because we will not give these input variables to ML model for sales prediction.\n",
        "\n",
        "Sales is our target variable and rest are the independent variables or we can say that these are the features which influencing the target variables."
      ],
      "metadata": {
        "id": "fGgaEstsBnaf"
      }
    },
    {
      "cell_type": "markdown",
      "source": [
        "### 5. Data Transformation"
      ],
      "metadata": {
        "id": "TNVZ9zx19K6k"
      }
    },
    {
      "cell_type": "markdown",
      "source": [
        "#### Do you think that your data needs to be transformed? If yes, which transformation have you used. Explain Why?"
      ],
      "metadata": {
        "id": "nqoHp30x9hH9"
      }
    },
    {
      "cell_type": "code",
      "source": [
        "#CompetitionDistance, month, Promo2Open,CompetitionOpen\n",
        "new_df['CompetitionDistance'] = new_df['CompetitionDistance'].map(lambda x : np.log(x) if x != 0 else 0)\n",
        "new_df['Promo2Open'] = new_df['Promo2Open'].map(lambda x : np.log(x) if x != 0 else 0)\n",
        "new_df['CompetitionOpen'] = new_df['CompetitionOpen'].map(lambda x : np.log(x) if x != 0 else 0)"
      ],
      "metadata": {
        "id": "I6quWQ1T9rtH"
      },
      "execution_count": null,
      "outputs": []
    },
    {
      "cell_type": "code",
      "source": [
        "new_df.head()"
      ],
      "metadata": {
        "id": "BhgDc_P8__tm"
      },
      "execution_count": null,
      "outputs": []
    },
    {
      "cell_type": "code",
      "source": [
        "# new_df[new_df['Promo2Open']<0 ]\n",
        "# new_df[new_df['CompetitionOpen']<0 ]\n",
        "new_df[new_df['CompetitionDistance']<0 ]"
      ],
      "metadata": {
        "id": "H6V5nD5LADjl"
      },
      "execution_count": null,
      "outputs": []
    },
    {
      "cell_type": "code",
      "source": [
        "new_df=new_df[new_df['Promo2Open']>0]\n",
        "new_df"
      ],
      "metadata": {
        "id": "-gt9cFshAHHE"
      },
      "execution_count": null,
      "outputs": []
    },
    {
      "cell_type": "code",
      "source": [
        "new_df.shape"
      ],
      "metadata": {
        "id": "PcXHuPXDAK5a"
      },
      "execution_count": null,
      "outputs": []
    },
    {
      "cell_type": "code",
      "source": [
        "new_df.Sales.describe()"
      ],
      "metadata": {
        "id": "l28Hds-pAOHx"
      },
      "execution_count": null,
      "outputs": []
    },
    {
      "cell_type": "code",
      "source": [
        "new_df.columns"
      ],
      "metadata": {
        "id": "2o53Y-yTASAp"
      },
      "execution_count": null,
      "outputs": []
    },
    {
      "cell_type": "code",
      "source": [
        "new_df[new_df['CompetitionOpen']<0]"
      ],
      "metadata": {
        "id": "lyU6vqCZAbAj"
      },
      "execution_count": null,
      "outputs": []
    },
    {
      "cell_type": "code",
      "source": [
        "new_df[new_df['Promo2Open']<0]"
      ],
      "metadata": {
        "id": "f_b0VbKkAfx_"
      },
      "execution_count": null,
      "outputs": []
    },
    {
      "cell_type": "markdown",
      "source": [
        "### 6. Data Scaling"
      ],
      "metadata": {
        "id": "rMDnDkt2B6du"
      }
    },
    {
      "cell_type": "code",
      "source": [
        "new_df.columns"
      ],
      "metadata": {
        "id": "dL9LWpySC6x_"
      },
      "execution_count": null,
      "outputs": []
    },
    {
      "cell_type": "code",
      "source": [
        "new_df.set_index(['Date'],inplace=True)\n",
        "#sorting index following the time series\n",
        "new_df.sort_index(inplace=True)"
      ],
      "metadata": {
        "id": "L5Ff3RSLAuQR"
      },
      "execution_count": null,
      "outputs": []
    },
    {
      "cell_type": "code",
      "source": [
        "\n",
        "import numpy as np\n",
        "import pandas as pd\n",
        "from numpy import math\n",
        "\n",
        "from sklearn.preprocessing import MinMaxScaler\n",
        "from sklearn.model_selection import train_test_split\n",
        "from sklearn.linear_model import LinearRegression\n",
        "from sklearn.metrics import r2_score\n",
        "from sklearn.metrics import mean_squared_error"
      ],
      "metadata": {
        "id": "tMT9utCeAxV9"
      },
      "execution_count": null,
      "outputs": []
    },
    {
      "cell_type": "markdown",
      "source": [
        "we have used MinMaxScaler to scale my data. Min-max scaler is a method for feature scaling, which is a technique used to normalize the range of the independent variables (features) of a dataset. The goal of min-max scaling is to transform the features such that they are in the range of [0, 1].\n",
        "\n",
        "X_scaled = (X - Xmin) / (Xmax - Xmin)\n",
        "\n",
        "Where X is the original feature value, Xmin is the minimum value of the feature and Xmax is the maximum value of the feature. This method is particularly useful for algorithms that are sensitive to the scale of the input features, such as k-nearest neighbors and artificial neural networks.\n"
      ],
      "metadata": {
        "id": "2RDKUE_QA5Q_"
      }
    },
    {
      "cell_type": "markdown",
      "source": [
        "##### Which method have you used to scale you data and why?"
      ],
      "metadata": {
        "id": "yiiVWRdJDDil"
      }
    },
    {
      "cell_type": "markdown",
      "source": [
        "We used minmax scaler to scale our data because all values will fall between 0 and 1. while the range is increased while using the standard scaler because it falls between the min and max values.\n",
        "Our data does not follow normal distribution so, we used minmax scaler instead of standard scaler.\n",
        "\n",
        "we have used this method after spliting our data."
      ],
      "metadata": {
        "id": "FMfm2bDbBGIW"
      }
    },
    {
      "cell_type": "markdown",
      "source": [
        "### 7. Dimesionality Reduction"
      ],
      "metadata": {
        "id": "1UUpS68QDMuG"
      }
    },
    {
      "cell_type": "markdown",
      "source": [
        "##### Do you think that dimensionality reduction is needed? Explain Why?"
      ],
      "metadata": {
        "id": "kexQrXU-DjzY"
      }
    },
    {
      "cell_type": "markdown",
      "source": [
        "Dimensionality reduction is not always necessary in regression, as the model can handle high dimensional input data. However, it may be useful in certain situations such as reducing the computational cost of training and testing the model, removing noise or irrelevant features from the input data, or improving the interpretability of the model by identifying the most important features. It can also be useful in preventing overfitting, which occurs when a model is too complex for the amount of data it is being trained on."
      ],
      "metadata": {
        "id": "GGRlBsSGDtTQ"
      }
    },
    {
      "cell_type": "code",
      "source": [
        "# DImensionality Reduction (If needed)"
      ],
      "metadata": {
        "id": "kQfvxBBHDvCa"
      },
      "execution_count": null,
      "outputs": []
    },
    {
      "cell_type": "markdown",
      "source": [
        "##### Which dimensionality reduction technique have you used and why? (If dimensionality reduction done on dataset.)"
      ],
      "metadata": {
        "id": "T5CmagL3EC8N"
      }
    },
    {
      "cell_type": "markdown",
      "source": [
        "Answer Here."
      ],
      "metadata": {
        "id": "ZKr75IDuEM7t"
      }
    },
    {
      "cell_type": "markdown",
      "source": [
        "### 8. Data Splitting"
      ],
      "metadata": {
        "id": "BhH2vgX9EjGr"
      }
    },
    {
      "cell_type": "code",
      "source": [
        "#Slicing the most recent six months and creating train and test set\n",
        "#train\n",
        "start_train = pd.to_datetime(\"2013-01-01\")\n",
        "end_train = pd.to_datetime(\"2014-12-31\")\n",
        "df_train = new_df.loc[start_train:end_train]\n",
        "#test\n",
        "start_test = pd.to_datetime(\"2015-01-01\")\n",
        "end_test = pd.to_datetime(\"2015-07-31\")\n",
        "df_test = new_df.loc[start_test:end_test]"
      ],
      "metadata": {
        "id": "0CTyd2UwEyNM"
      },
      "execution_count": null,
      "outputs": []
    },
    {
      "cell_type": "code",
      "source": [
        "#Taking X_train,y_train,X_test and y_test\n",
        "X_train = df_train.drop('Sales',axis=1)\n",
        "y_train = df_train[['Sales']]\n",
        "X_test = df_test.drop('Sales',axis=1)\n",
        "y_test = df_test[['Sales']]\n",
        "print(f'The shape of X_train is: {X_train.shape}')\n",
        "print(f'The shape of y_train is: {y_train.shape}')\n",
        "print(f'The shape of X_test is: {X_test.shape}')\n",
        "print(f'The shape of y_test is: {y_test.shape}')"
      ],
      "metadata": {
        "id": "f3FFc_7EBZOd"
      },
      "execution_count": null,
      "outputs": []
    },
    {
      "cell_type": "code",
      "source": [
        "# Transforming data\n",
        "scaler = MinMaxScaler()\n",
        "X_train = scaler.fit_transform(X_train)\n",
        "X_test = scaler.transform(X_test)"
      ],
      "metadata": {
        "id": "wRkUnxWZBdze"
      },
      "execution_count": null,
      "outputs": []
    },
    {
      "cell_type": "markdown",
      "source": [
        "##### What data splitting ratio have you used and why?"
      ],
      "metadata": {
        "id": "qjKvONjwE8ra"
      }
    },
    {
      "cell_type": "markdown",
      "source": [
        "Here, we select 80% of the data as a training data and 20% are the test data. Our dataset contains lots of observations so, we used 20% of the data for testing."
      ],
      "metadata": {
        "id": "Y2lJ8cobFDb_"
      }
    },
    {
      "cell_type": "markdown",
      "source": [
        "### 9. Handling Imbalanced Dataset"
      ],
      "metadata": {
        "id": "P1XJ9OREExlT"
      }
    },
    {
      "cell_type": "markdown",
      "source": [
        "##### Do you think the dataset is imbalanced? Explain Why."
      ],
      "metadata": {
        "id": "VFOzZv6IFROw"
      }
    },
    {
      "cell_type": "markdown",
      "source": [
        "No need to  think the dataset is imbalanced.\n",
        "\n",
        "Handling imbalanced datasets refers to the process of addressing the issue of unequal distribution of classes in a dataset. Imbalanced datasets occur when one class has significantly more samples than other classes, which can result in poor performance of machine learning models. There are several techniques that can be used to handle imbalanced datasets"
      ],
      "metadata": {
        "id": "GeKDIv7pFgcC"
      }
    },
    {
      "cell_type": "code",
      "source": [
        "# Handling Imbalanced Dataset (If needed)"
      ],
      "metadata": {
        "id": "nQsRhhZLFiDs"
      },
      "execution_count": null,
      "outputs": []
    },
    {
      "cell_type": "markdown",
      "source": [
        "##### What technique did you use to handle the imbalance dataset and why? (If needed to be balanced)"
      ],
      "metadata": {
        "id": "TIqpNgepFxVj"
      }
    },
    {
      "cell_type": "markdown",
      "source": [
        "Answer Here."
      ],
      "metadata": {
        "id": "qbet1HwdGDTz"
      }
    },
    {
      "cell_type": "markdown",
      "source": [
        "## ***7. ML Model Implementation***"
      ],
      "metadata": {
        "id": "VfCC591jGiD4"
      }
    },
    {
      "cell_type": "code",
      "source": [
        "# create a dataframe to store metrics related to models\n",
        "metrics_table = pd.DataFrame(columns=['Regression_Model', 'Train_R2', 'Test_R2', 'Train_RMSE', 'Test_RMSE'])"
      ],
      "metadata": {
        "id": "YfJyqT4OB1QV"
      },
      "execution_count": null,
      "outputs": []
    },
    {
      "cell_type": "code",
      "source": [
        "# define a function to calculate root mean squared percentage error\n",
        "# returns an array\n",
        "# def calculate_rmspe(y, y_pred):\n",
        "#   return (np.sqrt(np.mean(np.square(y.to_numpy() - y_pred))) / np.mean(y.to_numpy())) * 100"
      ],
      "metadata": {
        "id": "hrVr1dQ2B2_T"
      },
      "execution_count": null,
      "outputs": []
    },
    {
      "cell_type": "code",
      "source": [
        "# define a function to calculate metrics\n",
        "# returns a dictionary\n",
        "def calculate_model_metrics(y_train, y_train_pred, y_test, y_test_pred):\n",
        "  metrics_dict = {}\n",
        "\n",
        "  metrics_dict['Train_R2'] = r2_score(y_train, y_train_pred)\n",
        "  metrics_dict['Test_R2'] = r2_score(y_test, y_test_pred)\n",
        "  metrics_dict['Train_RMSE'] = mean_squared_error(y_train, y_train_pred, squared=False)\n",
        "  metrics_dict['Test_RMSE'] = mean_squared_error(y_test, y_test_pred, squared=False)\n",
        "  # metrics_dict['Train_RMSPE'] = calculate_rmspe(y_train, y_train_pred)\n",
        "  # metrics_dict['Test_RMSPE'] = calculate_rmspe(y_test, y_test_pred)\n",
        "\n",
        "  return metrics_dict"
      ],
      "metadata": {
        "id": "qUovhwHIB5_O"
      },
      "execution_count": null,
      "outputs": []
    },
    {
      "cell_type": "markdown",
      "source": [
        "### ML Model - 1 Linear Regression"
      ],
      "metadata": {
        "id": "OB4l2ZhMeS1U"
      }
    },
    {
      "cell_type": "code",
      "source": [
        "# ML Model - 1 Implementation\n",
        "# Fit the Algorithm\n",
        "# Predict on the model"
      ],
      "metadata": {
        "id": "WpguUPneCFch"
      },
      "execution_count": null,
      "outputs": []
    },
    {
      "cell_type": "code",
      "source": [
        "from sklearn.linear_model import LinearRegression\n",
        "regression_model = LinearRegression()\n",
        "regression_model.fit(X_train, y_train)\n"
      ],
      "metadata": {
        "id": "jr74bYXuCUll"
      },
      "execution_count": null,
      "outputs": []
    },
    {
      "cell_type": "code",
      "source": [
        "regression_model.score(X_test, y_test)"
      ],
      "metadata": {
        "id": "Lyb1pSYfCbo8"
      },
      "execution_count": null,
      "outputs": []
    },
    {
      "cell_type": "code",
      "source": [
        "#checking prediction\n",
        "y_train_pred = regression_model.predict(X_train)\n",
        "y_test_pred = regression_model.predict(X_test)"
      ],
      "metadata": {
        "id": "r8et8LYZCfLz"
      },
      "execution_count": null,
      "outputs": []
    },
    {
      "cell_type": "code",
      "source": [
        "#calculating for model metrics\n",
        "model_evaluation = calculate_model_metrics(y_train, y_train_pred, y_test, y_test_pred)"
      ],
      "metadata": {
        "id": "HsFUWNl0CglO"
      },
      "execution_count": null,
      "outputs": []
    },
    {
      "cell_type": "code",
      "source": [
        "#storing data in metric tables\n",
        "metrics_table.loc[len(metrics_table.index)] = ['Linear', model_evaluation['Train_R2'], model_evaluation['Test_R2'],\n",
        "                                                         model_evaluation['Train_RMSE'], model_evaluation['Test_RMSE']]"
      ],
      "metadata": {
        "id": "0nqvdDg-Cj4D"
      },
      "execution_count": null,
      "outputs": []
    },
    {
      "cell_type": "markdown",
      "source": [
        "#### 1. Explain the ML Model used and it's performance using Evaluation metric Score Chart."
      ],
      "metadata": {
        "id": "ArJBuiUVfxKd"
      }
    },
    {
      "cell_type": "markdown",
      "source": [
        "We have used Linear Regression as our first model, Linear Regression is a machine learning algorithm based on supervised learning. It performs a regression task. Regression models a target prediction value based on independent variables. It is mostly used for finding out the relationship between variables and forecasting."
      ],
      "metadata": {
        "id": "A8-aQQItCtmP"
      }
    },
    {
      "cell_type": "code",
      "source": [
        "metrics_table"
      ],
      "metadata": {
        "id": "rqD5ZohzfxKe"
      },
      "execution_count": null,
      "outputs": []
    },
    {
      "cell_type": "markdown",
      "source": [
        "#### 2. Cross- Validation & Hyperparameter Tuning"
      ],
      "metadata": {
        "id": "4qY1EAkEfxKe"
      }
    },
    {
      "cell_type": "code",
      "source": [
        "# ML Model - 1 Implementation with hyperparameter optimization techniques (i.e., GridSearch CV, RandomSearch CV, Bayesian Optimization etc.)\n",
        "# Fit the Algorithm\n",
        "# Predict on the model\n",
        "\n",
        "# cross validation using k fold technique\n",
        "from sklearn.model_selection import cross_val_score\n",
        "for i in [3,5,10]:\n",
        "  score = cross_val_score(LinearRegression(), X_train, y_train,cv=i)\n",
        "  print(np.average(score))"
      ],
      "metadata": {
        "id": "Dy61ujd6fxKe"
      },
      "execution_count": null,
      "outputs": []
    },
    {
      "cell_type": "code",
      "source": [
        "#hyper parameter tuning using RandomizedSearchCV\n",
        "from sklearn.model_selection import RandomizedSearchCV\n",
        "from scipy.stats import randint\n",
        "\n",
        "lr = LinearRegression()\n",
        "\n",
        "param_distributions = {\"fit_intercept\": [True, False],\n",
        "                        \"copy_X\": [True, False],\n",
        "                       \"positive\": [True, False]}\n",
        "search = RandomizedSearchCV(lr, param_distributions).fit(X_train, y_train)\n",
        "search.best_score_"
      ],
      "metadata": {
        "id": "PbJ_tMOuC_EH"
      },
      "execution_count": null,
      "outputs": []
    },
    {
      "cell_type": "code",
      "source": [
        "#showing the best parameter\n",
        "search.best_params_"
      ],
      "metadata": {
        "id": "VQRsCM-QDFm5"
      },
      "execution_count": null,
      "outputs": []
    },
    {
      "cell_type": "markdown",
      "source": [
        "##### Which hyperparameter optimization technique have you used and why?"
      ],
      "metadata": {
        "id": "PiV4Ypx8fxKe"
      }
    },
    {
      "cell_type": "markdown",
      "source": [
        "Over here we have used **RandomizedSearchCV** hyperparameter optimization technique , the reason for using this technique is that In order to train and score the model, Random Search creates a grid of hyperparameter values and chooses random combinations. As a result, we are able to specifically regulate the quantity of parameter combinations that are tried. Based on available time or resources, the number of search iterations is decided."
      ],
      "metadata": {
        "id": "negyGRa7fxKf"
      }
    },
    {
      "cell_type": "markdown",
      "source": [
        "##### Have you seen any improvement? Note down the improvement with updates Evaluation metric Score Chart."
      ],
      "metadata": {
        "id": "TfvqoZmBfxKf"
      }
    },
    {
      "cell_type": "markdown",
      "source": [
        "We have seen slight fall in the accuracy of the model by using the hyperparameter tuning."
      ],
      "metadata": {
        "id": "OaLui8CcfxKf"
      }
    },
    {
      "cell_type": "markdown",
      "source": [
        "###ML Model - 2 Decision Tree Regressor"
      ],
      "metadata": {
        "id": "dJ2tPlVmpsJ0"
      }
    },
    {
      "cell_type": "markdown",
      "source": [
        "#### 1. Explain the ML Model used and it's performance using Evaluation metric Score Chart."
      ],
      "metadata": {
        "id": "JWYfwnehpsJ1"
      }
    },
    {
      "cell_type": "code",
      "source": [
        "from sklearn.tree import DecisionTreeRegressor\n",
        "decision_tree_model = DecisionTreeRegressor()\n",
        "decision_tree_model.fit(X_train, y_train)"
      ],
      "metadata": {
        "id": "yEl-hgQWpsJ1"
      },
      "execution_count": null,
      "outputs": []
    },
    {
      "cell_type": "code",
      "source": [
        "decision_tree_model.score(X_test, y_test)"
      ],
      "metadata": {
        "id": "8QBEYFpHD0LA"
      },
      "execution_count": null,
      "outputs": []
    },
    {
      "cell_type": "code",
      "source": [
        "# predict the train and test data\n",
        "y_train_pred = decision_tree_model.predict(X_train)\n",
        "y_test_pred = decision_tree_model.predict(X_test)"
      ],
      "metadata": {
        "id": "-BlBLU12D3az"
      },
      "execution_count": null,
      "outputs": []
    },
    {
      "cell_type": "code",
      "source": [
        "model_evaluation = calculate_model_metrics(y_train, y_train_pred, y_test, y_test_pred)"
      ],
      "metadata": {
        "id": "BmQ3D4iXD63w"
      },
      "execution_count": null,
      "outputs": []
    },
    {
      "cell_type": "code",
      "source": [
        "model_evaluation = calculate_model_metrics(y_train, y_train_pred, y_test, y_test_pred)\n",
        "\n",
        "metrics_table.loc[len(metrics_table.index)] = ['Decision Tree', model_evaluation['Train_R2'], model_evaluation['Test_R2'],\n",
        "                                                         model_evaluation['Train_RMSE'], model_evaluation['Test_RMSE']]"
      ],
      "metadata": {
        "id": "3iwT9ecDD-L9"
      },
      "execution_count": null,
      "outputs": []
    },
    {
      "cell_type": "markdown",
      "source": [
        "Over here we have used Decision tree regressor, Decision tree regression observes features of an object and trains a model in the structure of a tree to predict data in the future to produce meaningful continuous output. Continuous output means that the output/result is not discrete, i.e., it is not represented just by a discrete, known set of numbers or values."
      ],
      "metadata": {
        "id": "-hUc69TsEBX2"
      }
    },
    {
      "cell_type": "code",
      "source": [
        "metrics_table.loc[1:,:]"
      ],
      "metadata": {
        "id": "C1CFZC1jEEx4"
      },
      "execution_count": null,
      "outputs": []
    },
    {
      "cell_type": "markdown",
      "source": [
        "#### 2. Cross- Validation & Hyperparameter Tuning"
      ],
      "metadata": {
        "id": "-jK_YjpMpsJ2"
      }
    },
    {
      "cell_type": "code",
      "source": [
        "from sklearn.model_selection import RandomizedSearchCV\n",
        "from scipy.stats import randint\n",
        "from sklearn.metrics import roc_auc_score, confusion_matrix, accuracy_score\n",
        "from pylab import rcParams"
      ],
      "metadata": {
        "id": "Dn0EOfS6psJ2"
      },
      "execution_count": null,
      "outputs": []
    },
    {
      "cell_type": "code",
      "source": [
        "# ML Model - 1 Implementation with hyperparameter optimization techniques (i.e., GridSearch CV, RandomSearch CV, Bayesian Optimization etc.)\n",
        "# Fit the Algorithm\n",
        "# Predict on the model\n",
        "# cross validation using k fold technique\n",
        "from sklearn.model_selection import cross_val_score\n",
        "for i in [3,5,10]:\n",
        "  score = cross_val_score(DecisionTreeRegressor(), X_train, y_train,cv=i)\n",
        "  print(np.mean(score))"
      ],
      "metadata": {
        "id": "o0GheXQtEMU8"
      },
      "execution_count": null,
      "outputs": []
    },
    {
      "cell_type": "code",
      "source": [
        "#hyper parameter tuning using RandomizedSearchCV\n",
        "from sklearn.model_selection import RandomizedSearchCV\n",
        "from scipy.stats import randint\n",
        "\n",
        "dtr = DecisionTreeRegressor()\n",
        "\n",
        "param_distributions = {\"criterion\": [\"squared_error\", \"poisson\",\"friedman_mse\" ],\n",
        "                        \"splitter\": [\"best\", \"random\"],\n",
        "                       \"max_features\": [\"auto\", \"sqrt\", \"log2\"], \"max_depth\" : [10]}\n",
        "search = RandomizedSearchCV(dtr, param_distributions).fit(X_train, y_train)\n",
        "search.best_score_"
      ],
      "metadata": {
        "id": "zXSPREIlEjBV"
      },
      "execution_count": null,
      "outputs": []
    },
    {
      "cell_type": "code",
      "source": [
        "search.best_params_"
      ],
      "metadata": {
        "id": "9O2eiZEmEzn6"
      },
      "execution_count": null,
      "outputs": []
    },
    {
      "cell_type": "markdown",
      "source": [
        "##### Which hyperparameter optimization technique have you used and why?"
      ],
      "metadata": {
        "id": "HAih1iBOpsJ2"
      }
    },
    {
      "cell_type": "markdown",
      "source": [
        "Over here we have used RandomizedSearchCV hyperparameter optimization technique , the reason for using this technique is that In order to train and score the model, Random Search creates a grid of hyperparameter values and chooses random combinations. As a result, we are able to specifically regulate the quantity of parameter combinations that are tried. Based on available time or resources, the number of search iterations is decided."
      ],
      "metadata": {
        "id": "9kBgjYcdpsJ2"
      }
    },
    {
      "cell_type": "markdown",
      "source": [
        "##### Have you seen any improvement? Note down the improvement with updates Evaluation metric Score Chart."
      ],
      "metadata": {
        "id": "zVGeBEFhpsJ2"
      }
    },
    {
      "cell_type": "markdown",
      "source": [
        "We have seen slight fall in the accuracy of the model by using the hyperparameter tuning."
      ],
      "metadata": {
        "id": "74yRdG6UpsJ3"
      }
    },
    {
      "cell_type": "markdown",
      "source": [
        "#### 3. Explain each evaluation metric's indication towards business and the business impact pf the ML model used."
      ],
      "metadata": {
        "id": "bmKjuQ-FpsJ3"
      }
    },
    {
      "cell_type": "markdown",
      "source": [
        "Evaluation metrics are used in machine learning to measure the performance of a model on a given dataset. This allows us to compare the performance of different models and select the one that performs the best on the task at hand. we have used evaluation metrics for this tasks, mean squared error for regression problems , RMSE."
      ],
      "metadata": {
        "id": "BDKtOrBQpsJ3"
      }
    },
    {
      "cell_type": "markdown",
      "source": [
        "### ML Model - 4 Lasso and Ridge Regression (L1 and L2 Regularization)"
      ],
      "metadata": {
        "id": "Fze-IPXLpx6K"
      }
    },
    {
      "cell_type": "code",
      "source": [
        "# ML Model - 3 Implementation\n",
        "# Fit the Algorithm\n",
        "# Predict on the model\n",
        "from sklearn.linear_model import Lasso, Ridge, ElasticNet\n",
        "lasso_model = Lasso()\n",
        "lasso_model.fit(X_train, y_train)"
      ],
      "metadata": {
        "id": "wAHQO5HwKnxp"
      },
      "execution_count": null,
      "outputs": []
    },
    {
      "cell_type": "code",
      "source": [
        "lasso_model.score(X_test, y_test)"
      ],
      "metadata": {
        "id": "lKUYDdLpQswr"
      },
      "execution_count": null,
      "outputs": []
    },
    {
      "cell_type": "code",
      "source": [
        "#ridge REgression\n",
        "ridge_model = Ridge()\n",
        "ridge_model.fit(X_train, y_train)\n",
        "ridge_model.score(X_test, y_test)"
      ],
      "metadata": {
        "id": "WzXSe0rPQ7Q0"
      },
      "execution_count": null,
      "outputs": []
    },
    {
      "cell_type": "code",
      "source": [
        "# predict the train and test data\n",
        "y_train_pred = ridge_model.predict(X_train)\n",
        "y_test_pred = ridge_model.predict(X_test)"
      ],
      "metadata": {
        "id": "Y9pTVoSSRGlj"
      },
      "execution_count": null,
      "outputs": []
    },
    {
      "cell_type": "code",
      "source": [
        "# model evaluation\n",
        "model_evaluation = calculate_model_metrics(y_train, y_train_pred, y_test, y_test_pred)\n",
        "\n",
        "# add metrics to metrics table\n",
        "metrics_table.loc[len(metrics_table.index)] = ['Ridge', model_evaluation['Train_R2'], model_evaluation['Test_R2'],\n",
        "                                                                model_evaluation['Train_RMSE'], model_evaluation['Test_RMSE']]"
      ],
      "metadata": {
        "id": "o38SUJhRRgZF"
      },
      "execution_count": null,
      "outputs": []
    },
    {
      "cell_type": "code",
      "source": [
        "#elasticnet regression\n",
        "elasticnet_model = ElasticNet()\n",
        "elasticnet_model.fit(X_train, y_train)\n",
        "elasticnet_model.score(X_test, y_test)"
      ],
      "metadata": {
        "id": "skhARgkORjz7"
      },
      "execution_count": null,
      "outputs": []
    },
    {
      "cell_type": "markdown",
      "source": [
        "#### 1. Explain the ML Model used and it's performance using Evaluation metric Score Chart."
      ],
      "metadata": {
        "id": "7AN1z2sKpx6M"
      }
    },
    {
      "cell_type": "markdown",
      "source": [
        "Evaluation metrics are used in machine learning to measure the performance of a model on a given dataset. This allows us to compare the performance of different models and select the one that performs the best on the task at hand. we have used evaluation metrics for this tasks, mean squared error for regression problems , RMSE."
      ],
      "metadata": {
        "id": "JCBPa-g1RpBH"
      }
    },
    {
      "cell_type": "code",
      "source": [
        "metrics_table.loc[3:,:]"
      ],
      "metadata": {
        "id": "wYV4EZ-wRs52"
      },
      "execution_count": null,
      "outputs": []
    },
    {
      "cell_type": "markdown",
      "source": [
        "#### 2. Cross- Validation & Hyperparameter Tuning"
      ],
      "metadata": {
        "id": "9PIHJqyupx6M"
      }
    },
    {
      "cell_type": "code",
      "source": [
        "from sklearn.model_selection import GridSearchCV"
      ],
      "metadata": {
        "id": "eSVXuaSKpx6M"
      },
      "execution_count": null,
      "outputs": []
    },
    {
      "cell_type": "code",
      "source": [
        "# ML Model - 3 Implementation with hyperparameter optimization techniques (i.e., GridSearch CV, RandomSearch CV, Bayesian Optimization etc.)\n",
        "lasso = Lasso()\n",
        "parameters = {'alpha': [1e-15,1e-13,1e-10,1e-8,1e-5,1e-4,1e-3,1e-2,1e-1,1,5,10]}\n",
        "lasso_regressor = GridSearchCV(lasso, parameters, scoring='neg_mean_squared_error', cv=3)\n",
        "lasso_regressor.fit(X_train, y_train)\n",
        "# Predict on the model\n",
        "print(\"The best fit alpha value is found out to be :\" ,lasso_regressor.best_params_)\n",
        "print(\"\\nUsing \",lasso_regressor.best_params_, \" the negative mean squared error is: \", lasso_regressor.best_score_)"
      ],
      "metadata": {
        "id": "4rSb248NR1p8"
      },
      "execution_count": null,
      "outputs": []
    },
    {
      "cell_type": "code",
      "source": [
        "# predict the train and test data\n",
        "y_train_pred = lasso_regressor.predict(X_train)\n",
        "y_test_pred = lasso_regressor.predict(X_test)"
      ],
      "metadata": {
        "id": "YDtyHlc_SbIQ"
      },
      "execution_count": null,
      "outputs": []
    },
    {
      "cell_type": "code",
      "source": [
        "# model evaluation\n",
        "model_evaluation = calculate_model_metrics(y_train, y_train_pred, y_test, y_test_pred)\n",
        "# add metrics to metrics table\n",
        "metrics_table.loc[len(metrics_table.index)] = ['Lasso', model_evaluation['Train_R2'], model_evaluation['Test_R2'],\n",
        "                                                        model_evaluation['Train_RMSE'], model_evaluation['Test_RMSE']]"
      ],
      "metadata": {
        "id": "lWWlUMNFSctg"
      },
      "execution_count": null,
      "outputs": []
    },
    {
      "cell_type": "markdown",
      "source": [
        "##### Which hyperparameter optimization technique have you used and why?"
      ],
      "metadata": {
        "id": "_-qAgymDpx6N"
      }
    },
    {
      "cell_type": "markdown",
      "source": [
        "Over here we have used GridSearchCV hyperparameter optimization technique , the reason for using this technique is that In order to train and score the model, grid Search creates a grid of hyperparameter values and chooses random combinations. As a result, we are able to specifically regulate the quantity of parameter combinations that are tried. Based on available time or resources, the number of search iterations is decided"
      ],
      "metadata": {
        "id": "lQMffxkwpx6N"
      }
    },
    {
      "cell_type": "markdown",
      "source": [
        "##### Have you seen any improvement? Note down the improvement with updates Evaluation metric Score Chart."
      ],
      "metadata": {
        "id": "Z-hykwinpx6N"
      }
    },
    {
      "cell_type": "markdown",
      "source": [
        "We have seen highly jump in the accuracy of the model by using the hyperparameter tuning our lasso r2 score increase to .82"
      ],
      "metadata": {
        "id": "MzVzZC6opx6N"
      }
    },
    {
      "cell_type": "markdown",
      "source": [
        "### 1. Which Evaluation metrics did you consider for a positive business impact and why?"
      ],
      "metadata": {
        "id": "h_CCil-SKHpo"
      }
    },
    {
      "cell_type": "markdown",
      "source": [
        "Evaluation metrics are used in machine learning to measure the performance of a model on a given dataset. This allows us to compare the performance of different models and select the one that performs the best on the task at hand. we have used evaluation metrics for this tasks, mean squared error for regression problems, RMSE."
      ],
      "metadata": {
        "id": "jHVz9hHDKFms"
      }
    },
    {
      "cell_type": "markdown",
      "source": [
        "### 2. Which ML model did you choose from the above created models as your final prediction model and why?"
      ],
      "metadata": {
        "id": "cBFFvTBNJzUa"
      }
    },
    {
      "cell_type": "markdown",
      "source": [
        "As we have seen above that, Random Forest Regressor is performing the best with the accuracy of 93.7% followed by Decison Tree Regressor with accuracy of 87.3%\n",
        "so here we are choosing Random Forest Regressor for best prediction."
      ],
      "metadata": {
        "id": "6ksF5Q1LKTVm"
      }
    },
    {
      "cell_type": "code",
      "source": [
        "# print metrics table\n",
        "metrics_table"
      ],
      "metadata": {
        "id": "661t5SZaS4DT"
      },
      "execution_count": null,
      "outputs": []
    },
    {
      "cell_type": "markdown",
      "source": [
        "### 3. Explain the model which you have used and the feature importance using any model explainability tool?"
      ],
      "metadata": {
        "id": "HvGl1hHyA_VK"
      }
    },
    {
      "cell_type": "markdown",
      "source": [
        "Random Forest is a supervised learning algorithm that can be used for both classification and regression tasks. A Random Forest regressor is a specific type of Random Forest that is used for regression tasks, which involve predicting a continuous output value (such as a price or temperature) rather than a discrete class label.\n",
        "\n",
        "The algorithm works by creating an ensemble of decision trees, where each tree is trained on a random subset of the data. The final output is then obtained by averaging the predictions of all the trees. This helps to reduce overfitting and improve the overall performance of the model.\n",
        "\n",
        "Random Forest regressor is known to be a very powerful algorithm that can handle high-dimensional data and a large number of input features. It is also relatively easy to use and interpret. It has several parameters that can be adjusted to optimize its performance, such as the number of trees in the ensemble, the maximum depth of each tree, and the minimum number of samples required to split a node.\n"
      ],
      "metadata": {
        "id": "YnvVTiIxBL-C"
      }
    },
    {
      "cell_type": "code",
      "source": [
        "df.columns"
      ],
      "metadata": {
        "id": "3hBhVK4kZXZf"
      },
      "execution_count": null,
      "outputs": []
    },
    {
      "cell_type": "code",
      "source": [
        "features = new_df[[ 'DayOfWeek','Customers', 'Promo','StateHoliday', 'SchoolHoliday', 'CompetitionDistance', 'Promo2', 'month','StoreType_b', 'StoreType_c', 'StoreType_d', 'Assortment_b',\n",
        "       'Assortment_c', 'Promo2Open', 'CompetitionOpen']].columns\n",
        "\n",
        "importances = random_forest_model.features_importances_\n",
        "indices = np.argsort(importances)\n",
        "plt.figure(figsize=(8,10))\n",
        "plt.title('Feature Importances', fontsize=20)\n",
        "plt.barh(range(len(indices)), importances[indices], color='red', align='center')\n",
        "plt.yticks(range(len(indices)), features[indices])\n",
        "plt.xlabel('Relative Importance')"
      ],
      "metadata": {
        "id": "nP9edci7n14a"
      },
      "execution_count": null,
      "outputs": []
    },
    {
      "cell_type": "markdown",
      "source": [
        "## ***8.*** ***Future Work (Optional)***"
      ],
      "metadata": {
        "id": "EyNgTHvd2WFk"
      }
    },
    {
      "cell_type": "markdown",
      "source": [
        "### 1. Save the best performing ml model in a pickle file or joblib file format for deployment process.\n"
      ],
      "metadata": {
        "id": "KH5McJBi2d8v"
      }
    },
    {
      "cell_type": "code",
      "source": [
        "# Save the File\n",
        "# import pickle\n",
        "# with open('model_pickle','wb') as file:\n",
        "#     pickle.dump(random_forest_model,file)"
      ],
      "metadata": {
        "id": "bQIANRl32f4J"
      },
      "execution_count": null,
      "outputs": []
    },
    {
      "cell_type": "markdown",
      "source": [
        "### 2. Again Load the saved model file and try to predict unseen data for a sanity check.\n"
      ],
      "metadata": {
        "id": "iW_Lq9qf2h6X"
      }
    },
    {
      "cell_type": "code",
      "source": [
        "# Load the File and predict unseen data.\n",
        "# with open('model_pickle','rb') as file:\n",
        "#     model = pickle.load(file)"
      ],
      "metadata": {
        "id": "oEXk9ydD2nVC"
      },
      "execution_count": null,
      "outputs": []
    },
    {
      "cell_type": "markdown",
      "source": [
        "### ***Congrats! Your model is successfully created and ready for deployment on a live server for a real user interaction !!!***"
      ],
      "metadata": {
        "id": "-Kee-DAl2viO"
      }
    },
    {
      "cell_type": "markdown",
      "source": [
        "# **Conclusion**"
      ],
      "metadata": {
        "id": "gCX9965dhzqZ"
      }
    },
    {
      "cell_type": "markdown",
      "source": [
        "###**Conclusion Derived From EDA**\n",
        "\n",
        "**From Chart 1**\n",
        "*   52.8 % stores have assortment type \"a\"(i.e. basic type)\n",
        "* 46.3 % stores have assortment type \"c\" (i.e. Extented type)\n",
        "* 0.8% stores have assortment type \"b\" (i.e. Extra type)\n",
        "\n",
        "**From Chart 2**\n",
        "* 54.23% stores are \"a\" StoreType\n",
        "* 30.76% stores are \"d\" StoreType\n",
        "* 13.45% stores are \"c\" StoreType\n",
        "* 1.56% stores are \"b\" StoreType\n",
        "\n",
        "**From Chart 3**\n",
        "* 83% stores are open, and 17% stores are closed due to StateHoliday or SchoolHoliday\n",
        "\n",
        "**From Chart 4**\n",
        "* Sales are maximum on Monday and least on Sunday\n",
        "* Sales are quite high (nearly two times) when the promo is running\n",
        "* Sales are very low when there is a state holiday\n",
        "* Sales are high on schoolholiday (not stateholiday)\n",
        "* The maximum sales are happening in storetype b\n",
        "* There is no clear relation between the sales and CompetitionOpenSinceMonth\n",
        "\n",
        "* There is no much difference in sales when promo2 (promo in cosecitive months) is running\n",
        "\n",
        "**From Chart 5**\n",
        "* The median sales is highest in *b* type assortment\n",
        "* The highest sale is recorded in *c* type assortemnt\n",
        "* The maximum number of sales of various types of assortment levels lie below 10K sales.\n",
        "\n",
        "**From Chart 6**\n",
        "* Sales are higher when the competition distance is low. So, if similar stores are loacted together at minimal distances, the sales will be high.\n",
        "\n",
        "**From Chart 7**\n",
        "* The highest sale is on December 16 2013 which is 15.62 million while most of sales are below 300K during other dates.\n",
        "\n",
        "**From Chart 8**\n",
        "* The highest sales is recorded in storetype b. The sales during promo is higher than sales without promo in all store types.\n",
        "\n",
        "**From Chart 9**\n",
        "* Sales is highest in store type \"b\", and among the assortment strategies, the highest sales are recorded for \"c\" type assortment.\n",
        "\n",
        "**From Chart 10**\n",
        "* Sales in the year is 2015 is high (till the given month). However, the sales have drastically decreased for in year 2014.\n",
        "\n",
        "**From Chart 11**\n",
        "* The sales are highest for storetype \"b\". Specially, on stateholiday, the sales are tremendously high because they are open even on stateholiday.\n",
        "\n",
        "**From Chart 12**\n",
        "* In store type *b* at very low sales the customers are maximum it means that customers are purchasing low price drugs more.\n",
        "* In store type *a* sales and customer are increasing in equal proportion.\n",
        "* In store type *c* at very high sales the customers are minimum it means that customers are purchasing high price drugs more.\n",
        "* In store type *d* at very high sales the customers are minimum it means that customers are purchasing high price drugs more as compare to type *c* store.\n",
        "\n",
        "**From Chart 13**\n",
        "* In 2013, the total sales are maximum in February, July, and December\n",
        "* In 2014, total sales are almost same in all months except december because in december the sales are maximum.\n",
        "* In 2015, we have sales for only 7 months, and in December the sales are maximum.\n",
        "\n",
        "**From Chart 14**\n",
        "* The features Promo, Open, Customers are positively correlated with sales.\n",
        "* Sales, Cuustomer, Open, and Promo are negatively correlated with Day of week\n",
        "* Open and Promo are positively correlated with Customers.\n",
        "* Sales and customers are positively correlated with Open while Day of Week is negatively correlated with Open.\n",
        "* Day of week is negatively correlated with Promo.\n",
        "* Promo2sinceYear and Promo2SinceWeek are negatively correlated.\n",
        "**From Chart 15**\n",
        "* Customers and sales are linearily increasing.\n",
        "* month and weekofyear are linarily increasing with DayofYear.\n",
        "\n",
        "###**Conclusion Regarding Accuracy of ML Models**\n",
        "\n",
        "**Linear Regression**\n",
        "\n",
        "It gives 79% accuracy on the test data (i.e r2_score is 0.790007 for test data). And we get 81% accuracy (r2_score = 0.8155) after using the cross-validation.\n",
        "\n",
        "**Decision Tree**\n",
        "It gives 87% accuracy on the test data (i.e r2_score is 0.8720 for test data). And 88% (i.e. r2_score = 0.8843) after tunning hyperparameter.\n",
        "\n",
        "**Random Forest Regressor**\n",
        "\n",
        "The random forest regressiore provides 93.77% accuracy because it is gives 0.9377 r2_score.\n",
        "\n",
        "**L1 and L2 Regularization**\n",
        "Lasso gives 14% accuracy while ridge provides approximately 79% accuracy. And elastic net is worst model for this data because it gives 9% accuracy.\n",
        "\n",
        "After hyperparameter tunning, Lasso gives 79% (approximately) accuracy.\n",
        "\n",
        "Among the all regression models, it is clear that Random Forest Regressor is giving the best result with the accuracy of 93.6% followed by Decison Tree Regressor with accuracy of 87.2%. So, we will use the random forest regressor to predict the sales."
      ],
      "metadata": {
        "id": "Fjb1IsQkh3yE"
      }
    },
    {
      "cell_type": "markdown",
      "source": [
        "### ***Hurrah! You have successfully completed your Machine Learning Capstone Project !!!***"
      ],
      "metadata": {
        "id": "gIfDvo9L0UH2"
      }
    }
  ]
}